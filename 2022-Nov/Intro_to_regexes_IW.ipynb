{
 "cells": [
  {
   "cell_type": "markdown",
   "metadata": {},
   "source": [
    "# An introduction to Regular Expressions in Python"
   ]
  },
  {
   "cell_type": "markdown",
   "metadata": {},
   "source": [
    "Ian Watt - Aberdeen Python User Group, 13 January 2021\n",
    "\n",
    "Licence: [CC-BY-SA](https://creativecommons.org/licenses/by-sa/4.0/)"
   ]
  },
  {
   "cell_type": "markdown",
   "metadata": {},
   "source": [
    "## Finding strings \n",
    "Finding strings inside longer strings in Python is quite  easy __if__ you know what you are looking for. "
   ]
  },
  {
   "cell_type": "code",
   "execution_count": 1,
   "metadata": {
    "collapsed": true
   },
   "outputs": [
    {
     "name": "stdout",
     "output_type": "stream",
     "text": [
      "10\n"
     ]
    }
   ],
   "source": [
    "#find where the string 'name' occurs\n",
    "str = 'Hello. My name is Ian'\n",
    "print(str.find('name')) # prints the start position "
   ]
  },
  {
   "cell_type": "markdown",
   "metadata": {},
   "source": [
    "Q. Why was that not 11? "
   ]
  },
  {
   "cell_type": "markdown",
   "metadata": {},
   "source": [
    "### But ...\n",
    "if we want to find something which we don't know the value of (eg. any name that falls after \"my name is\") or more general patterns (eg. any date, a four digit year, or a Postcode) where we don't know what the exact value is, we need a better way to do that. Imagine a file containing the following:\n",
    "\n",
    "__Date Number of sales__ \n",
    "\n",
    "01 Jan 2019, 47\n",
    "\n",
    "4 Jun 2019 -  91\n",
    "\n",
    "15 Dec 2019 -  66\n",
    "\n",
    "28 Feb 2020, 81\n",
    "\n",
    "1 March 2021, 100\n",
    "\n",
    "29 Jul 21: 43\n",
    "\n",
    "etc.\n",
    "\n",
    "How would we gather all the datesEnter __Regular Expressions__ (often referred to as _Regexes_ )"
   ]
  },
  {
   "cell_type": "markdown",
   "metadata": {},
   "source": [
    "## Using Regexes for  the first time"
   ]
  },
  {
   "cell_type": "markdown",
   "metadata": {},
   "source": [
    "Let's start by importing the Regular Expressions library "
   ]
  },
  {
   "cell_type": "code",
   "execution_count": 2,
   "metadata": {},
   "outputs": [],
   "source": [
    "import re"
   ]
  },
  {
   "cell_type": "markdown",
   "metadata": {},
   "source": [
    "Now set up a string in which to search:"
   ]
  },
  {
   "cell_type": "code",
   "execution_count": 3,
   "metadata": {},
   "outputs": [],
   "source": [
    "str = \"Today's date is 13 Jan 2021.\""
   ]
  },
  {
   "cell_type": "markdown",
   "metadata": {},
   "source": [
    "Then create a _match object_\n",
    "\n",
    "We give it the _re_ search method, some pattern to match, and our target text string. \n",
    "\n",
    "We know that a digit is represented as '\\d' so we'll work with that.\n",
    "\n",
    "We'll come back to the syntax of the pattern - in this case we say four digits."
   ]
  },
  {
   "cell_type": "code",
   "execution_count": 4,
   "metadata": {},
   "outputs": [],
   "source": [
    "mo = re.search(r'\\d\\d\\d\\d', str)"
   ]
  },
  {
   "cell_type": "markdown",
   "metadata": {},
   "source": [
    "\n",
    "The match object is a Python object with properties of its own which we can request and use. "
   ]
  },
  {
   "cell_type": "code",
   "execution_count": 5,
   "metadata": {
    "collapsed": true
   },
   "outputs": [
    {
     "name": "stdout",
     "output_type": "stream",
     "text": [
      "<re.Match object; span=(23, 27), match='2021'>\n"
     ]
    }
   ],
   "source": [
    "print(mo)"
   ]
  },
  {
   "cell_type": "code",
   "execution_count": 6,
   "metadata": {
    "collapsed": true
   },
   "outputs": [
    {
     "name": "stdout",
     "output_type": "stream",
     "text": [
      "2021\n"
     ]
    }
   ],
   "source": [
    "print(mo.group()) #the matching group of characters found"
   ]
  },
  {
   "cell_type": "code",
   "execution_count": 7,
   "metadata": {
    "collapsed": true
   },
   "outputs": [
    {
     "name": "stdout",
     "output_type": "stream",
     "text": [
      "Start: 23, End: 27\n"
     ]
    }
   ],
   "source": [
    "print(f\"Start: {mo.start()}, End: {mo.end()}\") #start and end positions of the matching group"
   ]
  },
  {
   "cell_type": "code",
   "execution_count": 8,
   "metadata": {
    "collapsed": true
   },
   "outputs": [
    {
     "name": "stdout",
     "output_type": "stream",
     "text": [
      "Today's date is 13 Jan 2021.\n"
     ]
    }
   ],
   "source": [
    "print (mo.string) #the string we are searching in"
   ]
  },
  {
   "cell_type": "code",
   "execution_count": 9,
   "metadata": {
    "collapsed": true
   },
   "outputs": [
    {
     "name": "stdout",
     "output_type": "stream",
     "text": [
      "(23, 27)\n"
     ]
    }
   ],
   "source": [
    "print (mo.span()) #same as start / end"
   ]
  },
  {
   "cell_type": "markdown",
   "metadata": {},
   "source": [
    "### Pattern syntax\n",
    "\n",
    "In our match object  above we ask for '\\d\\d\\d\\d'\n",
    "\n",
    "'\\d' means 'any digit' - so this means any four  consecutive digits. \n",
    "\n",
    "You'll note that the '13' of the date _didn't_ match our pattern as it has two digits followed by  a whitespace character. Only the four consective digits  of 2021 matched. \n",
    "\n",
    "There is a more elegant way to specify four digits: \\d{4}\n",
    "\n",
    "Try it:"
   ]
  },
  {
   "cell_type": "code",
   "execution_count": 10,
   "metadata": {
    "collapsed": true
   },
   "outputs": [
    {
     "name": "stdout",
     "output_type": "stream",
     "text": [
      "2021\n"
     ]
    }
   ],
   "source": [
    "mo = re.search(r'\\d{4}', str)\n",
    "print(mo.group())"
   ]
  },
  {
   "cell_type": "code",
   "execution_count": 11,
   "metadata": {
    "collapsed": true
   },
   "outputs": [
    {
     "name": "stdout",
     "output_type": "stream",
     "text": [
      "13\n"
     ]
    }
   ],
   "source": [
    "mo = re.search(r'\\d{2,4}', str) #minimum of 2 times, max of 4 times\n",
    "print(mo.group())"
   ]
  },
  {
   "cell_type": "markdown",
   "metadata": {},
   "source": [
    "And we can specify a minimum and maximum number by using \n",
    "'{2,4}' to ask for a minimum of 2 and a maximum of 4 items. "
   ]
  },
  {
   "cell_type": "markdown",
   "metadata": {},
   "source": [
    "### Extending our search pattern"
   ]
  },
  {
   "cell_type": "markdown",
   "metadata": {},
   "source": [
    "How can we find  the first two digits of the date (representing the day)?"
   ]
  },
  {
   "cell_type": "code",
   "execution_count": 12,
   "metadata": {
    "collapsed": true
   },
   "outputs": [
    {
     "name": "stdout",
     "output_type": "stream",
     "text": [
      "13\n"
     ]
    }
   ],
   "source": [
    "mo = re.search(r'\\d{2}', str)\n",
    "print(mo.group())"
   ]
  },
  {
   "cell_type": "markdown",
   "metadata": {},
   "source": [
    "#### Adding the month\n",
    "\n",
    "We can create a pattern for alphabetic characters thus\n",
    "\n",
    "'[A-Za-z]'\n",
    "\n",
    "The 'A-Z' asks for capital letters, and 'a-z' for lower case letters. "
   ]
  },
  {
   "cell_type": "code",
   "execution_count": 13,
   "metadata": {
    "collapsed": true
   },
   "outputs": [
    {
     "name": "stdout",
     "output_type": "stream",
     "text": [
      "T\n"
     ]
    }
   ],
   "source": [
    "mo = re.search(r'[A-Za-z]', str)\n",
    "print(mo.group())"
   ]
  },
  {
   "cell_type": "markdown",
   "metadata": {},
   "source": [
    "That gets the first single alphabetic character of our string ('T'). \n",
    "\n",
    "As our query asks for the first instance of an alphabetic character in our _set_ enclosed in square brackets: [ ].\n",
    "\n",
    "What would happen if, instead of '[A-Za-z]' we just said '[a-z]'?\n",
    "\n",
    "Applying what we know about groups of characters we can extend that:"
   ]
  },
  {
   "cell_type": "code",
   "execution_count": 14,
   "metadata": {
    "collapsed": true
   },
   "outputs": [
    {
     "name": "stdout",
     "output_type": "stream",
     "text": [
      "Tod\n"
     ]
    }
   ],
   "source": [
    "mo = re.search(r'[A-Za-z]{3}', str)\n",
    "print(mo.group())"
   ]
  },
  {
   "cell_type": "markdown",
   "metadata": {},
   "source": [
    "That returns the  first three alphabetic characters of the string. "
   ]
  },
  {
   "cell_type": "markdown",
   "metadata": {},
   "source": [
    "So - putting these together how can we get the full date? \n",
    "\n",
    "First we need to know how Regexes handle whitespace. \n",
    "\n",
    "We can specify a whitespace as '\\s'"
   ]
  },
  {
   "cell_type": "code",
   "execution_count": 15,
   "metadata": {
    "collapsed": true
   },
   "outputs": [
    {
     "name": "stdout",
     "output_type": "stream",
     "text": [
      "(7, 8)\n"
     ]
    }
   ],
   "source": [
    "mo = re.search(r'\\s', str)\n",
    "print(mo.span())"
   ]
  },
  {
   "cell_type": "markdown",
   "metadata": {},
   "source": [
    "Can you see how that matches the first occurring space after \"Today's\" in our string?\n",
    "\n",
    "Let's put that all together. \n",
    "\n",
    "We need\n",
    "- 2 digits\n",
    "- a space\n",
    "- 3 letters \n",
    "- a space\n",
    "- 4 digits\n",
    "\n",
    "Can you write it?  Give it a go before scrollling down"
   ]
  },
  {
   "cell_type": "code",
   "execution_count": 16,
   "metadata": {},
   "outputs": [],
   "source": [
    "#add your code here\n",
    "\n",
    "\n",
    "\n",
    "\n",
    "\n",
    "\n",
    "\n",
    "\n",
    "\n",
    "\n",
    "\n",
    "\n",
    "\n",
    "\n"
   ]
  },
  {
   "cell_type": "code",
   "execution_count": 17,
   "metadata": {},
   "outputs": [
    {
     "name": "stdout",
     "output_type": "stream",
     "text": [
      "13 Jan 2021\n"
     ]
    }
   ],
   "source": [
    "#this should work\n",
    "mo = re.search(r'\\d{2}\\s[A-Za-z]{3}\\s\\d{4}', str)\n",
    "print(mo.group())"
   ]
  },
  {
   "cell_type": "markdown",
   "metadata": {},
   "source": [
    "### Improving our pattern\n",
    "\n",
    "How can we improve what we have? What if someone accidentally slips two spaces in, instead of one? Try the following. "
   ]
  },
  {
   "cell_type": "code",
   "execution_count": 18,
   "metadata": {
    "collapsed": true
   },
   "outputs": [
    {
     "ename": "AttributeError",
     "evalue": "'NoneType' object has no attribute 'group'",
     "output_type": "error",
     "traceback": [
      "\u001b[0;31m---------------------------------------------------------------------------\u001b[0m",
      "\u001b[0;31mAttributeError\u001b[0m                            Traceback (most recent call last)",
      "\u001b[0;32m<ipython-input-18-383085a43302>\u001b[0m in \u001b[0;36m<module>\u001b[0;34m\u001b[0m\n\u001b[1;32m      1\u001b[0m \u001b[0mstr2\u001b[0m \u001b[0;34m=\u001b[0m \u001b[0;34m\"Today's date is 13 Jan  2021.\"\u001b[0m\u001b[0;34m\u001b[0m\u001b[0;34m\u001b[0m\u001b[0m\n\u001b[1;32m      2\u001b[0m \u001b[0mmo\u001b[0m \u001b[0;34m=\u001b[0m \u001b[0mre\u001b[0m\u001b[0;34m.\u001b[0m\u001b[0msearch\u001b[0m\u001b[0;34m(\u001b[0m\u001b[0;34mr'\\d{2}\\s[A-Za-z]{3}\\s\\d{4}'\u001b[0m\u001b[0;34m,\u001b[0m \u001b[0mstr2\u001b[0m\u001b[0;34m)\u001b[0m\u001b[0;34m\u001b[0m\u001b[0;34m\u001b[0m\u001b[0m\n\u001b[0;32m----> 3\u001b[0;31m \u001b[0mprint\u001b[0m \u001b[0;34m(\u001b[0m\u001b[0mmo\u001b[0m\u001b[0;34m.\u001b[0m\u001b[0mgroup\u001b[0m\u001b[0;34m(\u001b[0m\u001b[0;34m)\u001b[0m\u001b[0;34m)\u001b[0m\u001b[0;34m\u001b[0m\u001b[0;34m\u001b[0m\u001b[0m\n\u001b[0m\u001b[1;32m      4\u001b[0m \u001b[0;34m\u001b[0m\u001b[0m\n\u001b[1;32m      5\u001b[0m '''\n",
      "\u001b[0;31mAttributeError\u001b[0m: 'NoneType' object has no attribute 'group'"
     ]
    }
   ],
   "source": [
    "str2 = \"Today's date is 13 Jan  2021.\"\n",
    "mo = re.search(r'\\d{2}\\s[A-Za-z]{3}\\s\\d{4}', str2)\n",
    "print (mo.group())\n",
    "\n",
    "'''\n",
    "# The example above fails as the mo has not been created as the search fails. \n",
    "# we can fix this by checking first\n",
    "\n",
    "str2 = \"Today's date is 13 Jan  2021.\"\n",
    "mo = re.search(r'\\d{2}\\s[A-Za-z]{3}\\s\\d{4}', str2)\n",
    "\n",
    "if mo:\n",
    "    print(mo.group())\n",
    "else: \n",
    "    print(\"Match Object does not exist as the pattern was not found\")\n",
    "'''"
   ]
  },
  {
   "cell_type": "markdown",
   "metadata": {},
   "source": [
    "We can improve our search patterns to guard against that by saying look for one or more whitespace characters. \n",
    "\n",
    "The syntax for that is:\n",
    "\n",
    "- '\\s+'"
   ]
  },
  {
   "cell_type": "code",
   "execution_count": 19,
   "metadata": {
    "collapsed": true
   },
   "outputs": [
    {
     "name": "stdout",
     "output_type": "stream",
     "text": [
      "13 Jan  2021\n",
      "       ^ Note the double space after 'Jan'\n"
     ]
    }
   ],
   "source": [
    "#this should work now (note the plus sign after each 's' character)\n",
    "mo = re.search(r'\\d{2}\\s+[A-Za-z]{3}\\s+\\d{4}', str2)\n",
    "print(mo.group())\n",
    "print (\"       ^ Note the double space after 'Jan'\")"
   ]
  },
  {
   "cell_type": "markdown",
   "metadata": {},
   "source": [
    "## Some useful things to know. \n",
    "Special sequences (as we've seen with '\\d' and '\\s\\'\n",
    "\n",
    "### Special Sequences \n",
    "- \\A\tReturns a match if the specified characters are at the beginning of the string\t\"\\AWh\"\n",
    "- \\b\tReturns a match where the specified characters are at the beginning or at the end of a word (the \"r\" in the beginning is making sure that the string is being treated as a \"raw string\")\tr\"\\band\"\n",
    "- \\B\tReturns a match where the specified characters are present, but NOT at the beginning (or at the end) of a word\tr\"\\Bone\"\n",
    "- \\d\tReturns a match where the string contains digits (numbers from 0-9)\t\"\\d\"\n",
    "- \\D\tReturns a match where the string DOES NOT contain digits\t\"\\D\"\n",
    "- \\s\tReturns a match where the string contains a white space character\t\"\\s\"\n",
    "- \\S\tReturns a match where the string DOES NOT contain a white space character\t\"\\S\"\n",
    "- \\w\tReturns a match where the string contains any word characters (characters from a to Z, digits from 0-9, and the underscore _ character)\t\"\\w\"\n",
    "- \\W\tReturns a match where the string DOES NOT contain any word characters\t\"\\W\"\n",
    "- \\Z\tReturns a match if the specified characters are at the end of the string\t\"Spain\\Z\"\n",
    "\n",
    "And metacharacters.\n",
    "\n",
    "### Metacharacters\n",
    "* \"[ ]\"\tA set of characters\t\"[p-z]\"\n",
    "* \"\\\"\tused before a special sequence (or to escape special characters)\t\"\\d\"\n",
    "* \".\"\tANY character (except newline character)\t\"ba..n\"\n",
    "* \"^\"\tStarts with\t\"^Today\"\n",
    "* \"$\"\tEnds with \"erdeen$\"\n",
    "* \"*\"\tZero or more occurrences\t\"fix*\"\n",
    "* \"+\"\tOne or more occurrences\t\"fix+\"\n",
    "* \"{}\"\tExactly the specified number of occurrences\t\"iss{2}\"\n",
    "* \"|\"\tEither or\t\"cats|dogs\"\n",
    "* \"()\"\tCapture group\n",
    "\n",
    "[more examples](https://www.w3schools.com/python/python_regex.asp)"
   ]
  },
  {
   "cell_type": "markdown",
   "metadata": {},
   "source": [
    "### Looking for other things\n",
    "\n",
    "We can look for other characters in a similar way\n"
   ]
  },
  {
   "cell_type": "code",
   "execution_count": 20,
   "metadata": {
    "collapsed": true
   },
   "outputs": [
    {
     "name": "stdout",
     "output_type": "stream",
     "text": [
      "13-Jan-21\n",
      "13/Jan/21\n"
     ]
    }
   ],
   "source": [
    "str3 = \"Today's date is 13-Jan-21.\"\n",
    "mo = re.search(r'\\d{2}-[A-Za-z]{3}-\\d{2}', str3) #search for date containing \"-\" character\n",
    "print(mo.group())\n",
    "\n",
    "str4 = \"Today's date is 13/Jan/21.\"\n",
    "mo = re.search(r'\\d{2}/[A-Za-z]{3}/\\d{2}', str4) #search for date containing \"/\" character\n",
    "print(mo.group())"
   ]
  },
  {
   "cell_type": "code",
   "execution_count": null,
   "metadata": {},
   "outputs": [],
   "source": [
    "And we can combine both characters in a group"
   ]
  },
  {
   "cell_type": "code",
   "execution_count": 23,
   "metadata": {
    "collapsed": true
   },
   "outputs": [
    {
     "name": "stdout",
     "output_type": "stream",
     "text": [
      "13/Jan/21\n",
      "13/Jan/21\n"
     ]
    }
   ],
   "source": [
    "str3 = \"Today's date is 13/Jan/21.\"\n",
    "str4 = \"Today's date is 13/Jan/21.\"\n",
    "mo = re.search(r'\\d{2}[-/][A-Za-z]{3}[-/]\\d{2}', str3) #search for date containing \"-\" OR \"/\" characters\n",
    "print(mo.group())\n",
    "mo = re.search(r'\\d{2}[-/][A-Za-z]{3}[-/]\\d{2}', str4)  #search for date containing \"-\" OR \"/\" characters\n",
    "print(mo.group())"
   ]
  },
  {
   "cell_type": "markdown",
   "metadata": {},
   "source": [
    "## Capture Groups\n",
    "We can tell RE to give us back only a part of the match - a _capture group_. This is useful if you want to make sure that you match a full postcode, for example, but only the area part before the space, or match a full date but only return the year. \n",
    "\n",
    "Capture Groups are denoted by ()\n",
    "\n",
    "In this example we search for \"Number:\" followed by numbers or spaces - BUT we only want to capture the numeric group and any spaces within that. We discard \"Number:\""
   ]
  },
  {
   "cell_type": "code",
   "execution_count": 27,
   "metadata": {
    "collapsed": true
   },
   "outputs": [
    {
     "name": "stdout",
     "output_type": "stream",
     "text": [
      "01224 999999\n"
     ]
    }
   ],
   "source": [
    "sc = \"Jim's Phone Number: 01224 999999\"\n",
    "\n",
    "mo = re.search(r'Number: ([\\d\\s]+)', sc) #Match \"Number: \" and a sequence of numbers and spaces but just capture the numbers and space\n",
    "print(mo.group(1))\n"
   ]
  },
  {
   "cell_type": "code",
   "execution_count": 28,
   "metadata": {
    "collapsed": true
   },
   "outputs": [
    {
     "name": "stdout",
     "output_type": "stream",
     "text": [
      "01224 999999\n"
     ]
    }
   ],
   "source": [
    "# A named capture group\n",
    "mo = re.search(r'Number: (?P<number>.+)', sc) #here the capture group is named by the <number> \n",
    "print(mo.group('number'))\n"
   ]
  },
  {
   "cell_type": "markdown",
   "metadata": {},
   "source": [
    "Those named goups can then be referenced again. See the additional resources below. "
   ]
  },
  {
   "cell_type": "markdown",
   "metadata": {},
   "source": [
    "\n",
    "### Assertions\n",
    "\n",
    "Sometimes we want to find something only if it is followed bye somethis else. So Python needs to _look ahead_. \n",
    "\n",
    "For example, what if we want to find \"Aberdeen,\" only if it is followed by \"Scotland\"? \n",
    "\n",
    "We use'?=' to specify what the query must look ahead to. "
   ]
  },
  {
   "cell_type": "code",
   "execution_count": 30,
   "metadata": {
    "collapsed": true
   },
   "outputs": [
    {
     "name": "stdout",
     "output_type": "stream",
     "text": [
      "Aberdeen\n"
     ]
    }
   ],
   "source": [
    "sa = 'Aberdeen, Scotland is a city of 221,091 people.'\n",
    "\n",
    "mo = re.search(r'Aberdeen(?=, Scotland)', sa)\n",
    "print(mo.group())"
   ]
  },
  {
   "cell_type": "code",
   "execution_count": 32,
   "metadata": {
    "collapsed": true
   },
   "outputs": [
    {
     "ename": "AttributeError",
     "evalue": "'NoneType' object has no attribute 'group'",
     "output_type": "error",
     "traceback": [
      "\u001b[0;31m---------------------------------------------------------------------------\u001b[0m",
      "\u001b[0;31mAttributeError\u001b[0m                            Traceback (most recent call last)",
      "\u001b[0;32m<ipython-input-32-d1de49e2f910>\u001b[0m in \u001b[0;36m<module>\u001b[0;34m\u001b[0m\n\u001b[1;32m      2\u001b[0m \u001b[0;34m\u001b[0m\u001b[0m\n\u001b[1;32m      3\u001b[0m \u001b[0mmo\u001b[0m \u001b[0;34m=\u001b[0m \u001b[0mre\u001b[0m\u001b[0;34m.\u001b[0m\u001b[0msearch\u001b[0m\u001b[0;34m(\u001b[0m\u001b[0;34mr'Aberdeen(?=, Scotland)'\u001b[0m\u001b[0;34m,\u001b[0m \u001b[0msb\u001b[0m\u001b[0;34m)\u001b[0m\u001b[0;34m\u001b[0m\u001b[0;34m\u001b[0m\u001b[0m\n\u001b[0;32m----> 4\u001b[0;31m \u001b[0mprint\u001b[0m\u001b[0;34m(\u001b[0m\u001b[0mmo\u001b[0m\u001b[0;34m.\u001b[0m\u001b[0mgroup\u001b[0m\u001b[0;34m(\u001b[0m\u001b[0;34m)\u001b[0m\u001b[0;34m)\u001b[0m \u001b[0;31m# this will fail when ', Scotland' is not found\u001b[0m\u001b[0;34m\u001b[0m\u001b[0;34m\u001b[0m\u001b[0m\n\u001b[0m",
      "\u001b[0;31mAttributeError\u001b[0m: 'NoneType' object has no attribute 'group'"
     ]
    }
   ],
   "source": [
    "sb = 'Aberdeen, Washington is a city of 16,896 people.'\n",
    "\n",
    "mo = re.search(r'Aberdeen(?=, Scotland)', sb)\n",
    "print(mo.group()) # this will fail when ', Scotland' is not found"
   ]
  },
  {
   "cell_type": "markdown",
   "metadata": {},
   "source": [
    "### Negative assertions\n",
    "\n",
    "We can search for a term only if it is NOT followed by a certain term using '?!'"
   ]
  },
  {
   "cell_type": "code",
   "execution_count": 36,
   "metadata": {
    "collapsed": true
   },
   "outputs": [
    {
     "name": "stdout",
     "output_type": "stream",
     "text": [
      "Aberdeen\n"
     ]
    }
   ],
   "source": [
    "sc = 'Aberdeen, Scotland is a city of 16,896 people.'\n",
    "\n",
    "mo = re.search(r'Aberdeen(?!, Washington)', sc) #find Abedreen if it is NOT followed by \", Washington\"\n",
    "print(mo.group()) # ', Washington' is not found, so the search succeeds\n",
    "\n"
   ]
  },
  {
   "cell_type": "markdown",
   "metadata": {},
   "source": [
    "## Finding all instances of a set of characters\n",
    "\n",
    "We can use the re.findall() function"
   ]
  },
  {
   "cell_type": "code",
   "execution_count": 39,
   "metadata": {
    "collapsed": true
   },
   "outputs": [
    {
     "name": "stdout",
     "output_type": "stream",
     "text": [
      "['3', '2', '5', '17']\n"
     ]
    }
   ],
   "source": [
    "phrase = 'Welcome to Episode 3. In Chapter 2, on page 5, at line 17 you will find what you are looking for'\n",
    "print(re.findall(r'\\d+', phrase))\n",
    "#try changing the '+' to an asterisk \"*\" What happens? Why? "
   ]
  },
  {
   "cell_type": "code",
   "execution_count": 40,
   "metadata": {
    "collapsed": true
   },
   "outputs": [
    {
     "name": "stdout",
     "output_type": "stream",
     "text": [
      "['Welcome', 'Episode', 'In', 'Chapter']\n"
     ]
    }
   ],
   "source": [
    "phrase = 'Welcome to Episode 3. In Chapter 2, on page 5, at line 17 you will find what you are looking for.'\n",
    "print(re.findall(r'[A-Z][a-z]+', phrase)) #find a Capital letter followed by one or more alphabetic character\n"
   ]
  },
  {
   "cell_type": "markdown",
   "metadata": {},
   "source": [
    "## Compiling regexes\n",
    "We can create and save a pattern, and reuse it, for example in a loop. This is much more efficicent than putting the pattern to be used in the loop itself. "
   ]
  },
  {
   "cell_type": "code",
   "execution_count": 41,
   "metadata": {
    "collapsed": true
   },
   "outputs": [
    {
     "name": "stdout",
     "output_type": "stream",
     "text": [
      "['01345']\n",
      "['9994']\n",
      "['013457266']\n",
      "['09634']\n",
      "['321']\n",
      "['1266678']\n",
      "['9865']\n",
      "['7843']\n",
      "['968543']\n",
      "['23477']\n",
      "['092359']\n"
     ]
    }
   ],
   "source": [
    "myRegex = re.compile(r'\\d+') \n",
    "# This reads the file line-by-line\n",
    "for line in open(\"TestFile.txt\", 'r'):\n",
    "    print(myRegex.findall(line))"
   ]
  },
  {
   "cell_type": "markdown",
   "metadata": {},
   "source": [
    "## More resources\n",
    "\n",
    "* An introduction to Python Regular Expressions https://www.pythoncentral.io/introduction-to-python-regular-expressions/ (four parts)\n",
    "* Python Regex at W£ Schools https://www.w3schools.com/python/python_regex.asp \n",
    "* Regex101 - test your patterns: https://regex101.com "
   ]
  },
  {
   "cell_type": "code",
   "execution_count": null,
   "metadata": {},
   "outputs": [],
   "source": []
  }
 ],
 "metadata": {
  "kernelspec": {
   "display_name": "Python 3",
   "language": "python",
   "name": "python3"
  },
  "language_info": {
   "codemirror_mode": {
    "name": "ipython",
    "version": 3
   },
   "file_extension": ".py",
   "mimetype": "text/x-python",
   "name": "python",
   "nbconvert_exporter": "python",
   "pygments_lexer": "ipython3",
   "version": "3.7.4"
  }
 },
 "nbformat": 4,
 "nbformat_minor": 2
}
