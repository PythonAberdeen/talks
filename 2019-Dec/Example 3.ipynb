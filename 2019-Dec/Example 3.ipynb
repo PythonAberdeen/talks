{
 "cells": [
  {
   "cell_type": "code",
   "execution_count": null,
   "metadata": {
    "code_folding": []
   },
   "outputs": [],
   "source": [
    "import pandas as pd\n",
    "from bs4 import BeautifulSoup\n",
    "import requests"
   ]
  },
  {
   "cell_type": "code",
   "execution_count": null,
   "metadata": {
    "code_folding": [
     0
    ]
   },
   "outputs": [],
   "source": [
    "def get_jp_name(pokemon):\n",
    "    url = 'https://bulbapedia.bulbagarden.net/wiki/{}_(Pok%C3%A9mon)'.format(pokemon)\n",
    "    page = requests.get(url)\n",
    "    soup = BeautifulSoup(page.content, 'html.parser')\n",
    "    do_next = False\n",
    "    for span in soup.find_all('span'):\n",
    "        if 'lang=\"ja\"' in str(span):\n",
    "            parent = span.parent\n",
    "            kana = parent.find('b').contents[0]\n",
    "            if 'explain' in str(kana):\n",
    "                kana = str(kana.contents[0])\n",
    "            romaji = str(parent.find('i').contents[0])\n",
    "            return kana, romaji"
   ]
  },
  {
   "cell_type": "code",
   "execution_count": null,
   "metadata": {},
   "outputs": [],
   "source": [
    "pokemon = pd.read_csv(\"pokemon.csv\", index_col=0)"
   ]
  },
  {
   "cell_type": "code",
   "execution_count": null,
   "metadata": {},
   "outputs": [],
   "source": [
    "from tqdm.notebook import tqdm"
   ]
  },
  {
   "cell_type": "code",
   "execution_count": null,
   "metadata": {},
   "outputs": [],
   "source": [
    "jp = {}\n",
    "for english in tqdm(pokemon['Pokémon']):\n",
    "    jp[english] = get_jp_name(english)\n",
    "    "
   ]
  },
  {
   "cell_type": "code",
   "execution_count": null,
   "metadata": {
    "code_folding": []
   },
   "outputs": [],
   "source": [
    "# Alt\n",
    "jp = {get_jp_name(english) for english in tqdm(pokemon['Pokémon'])}\n"
   ]
  },
  {
   "cell_type": "code",
   "execution_count": null,
   "metadata": {},
   "outputs": [],
   "source": [
    "pokemon['Kana'] = pokemon['Pokémon'].apply(lambda x: jp[x][0])\n",
    "pokemon['Romaji'] = pokemon['Pokémon'].apply(lambda x: jp[x][1])\n",
    "\n",
    "pokemon"
   ]
  }
 ],
 "metadata": {
  "kernelspec": {
   "display_name": "Python 3",
   "language": "python",
   "name": "python3"
  },
  "language_info": {
   "codemirror_mode": {
    "name": "ipython",
    "version": 3
   },
   "file_extension": ".py",
   "mimetype": "text/x-python",
   "name": "python",
   "nbconvert_exporter": "python",
   "pygments_lexer": "ipython3",
   "version": "3.7.5"
  }
 },
 "nbformat": 4,
 "nbformat_minor": 4
}
