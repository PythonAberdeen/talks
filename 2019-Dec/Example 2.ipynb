{
 "cells": [
  {
   "cell_type": "code",
   "execution_count": null,
   "metadata": {
    "code_folding": []
   },
   "outputs": [],
   "source": [
    "from bs4 import BeautifulSoup\n",
    "import requests\n",
    "from time import time"
   ]
  },
  {
   "cell_type": "code",
   "execution_count": null,
   "metadata": {
    "code_folding": [
     0
    ]
   },
   "outputs": [],
   "source": [
    "from functools import lru_cache\n",
    "\n",
    "@lru_cache(maxsize=1000)\n",
    "def get_jp_name(pokemon):\n",
    "    url = 'https://bulbapedia.bulbagarden.net/wiki/{}_(Pok%C3%A9mon)'.format(pokemon)\n",
    "    page = requests.get(url)\n",
    "    soup = BeautifulSoup(page.content, 'html.parser')\n",
    "    do_next = False\n",
    "    for span in soup.find_all('span'):\n",
    "        if 'lang=\"ja\"' in str(span):\n",
    "            parent = span.parent\n",
    "            kana = parent.find('b').contents[0]\n",
    "            if 'explain' in str(kana):\n",
    "                kana = str(kana.contents[0])\n",
    "            romaji = str(parent.find('i').contents[0])\n",
    "            return kana, romaji"
   ]
  },
  {
   "cell_type": "code",
   "execution_count": null,
   "metadata": {
    "code_folding": []
   },
   "outputs": [],
   "source": [
    "# Pokémon English name\n",
    "english = 'Charmander'\n",
    "\n",
    "# Start a timer\n",
    "start = time()\n",
    "\n",
    "# Get the Japanese name from Bulbapedia\n",
    "kana, romaji = get_jp_name(english)\n",
    "\n",
    "# Print the name, and time taken\n",
    "print(f'Time: {time() - start:.3f} sec', end='\\n\\n')\n",
    "print(f'{english} : {kana} ({romaji})')"
   ]
  },
  {
   "cell_type": "code",
   "execution_count": null,
   "metadata": {},
   "outputs": [],
   "source": []
  }
 ],
 "metadata": {
  "kernelspec": {
   "display_name": "Python 3",
   "language": "python",
   "name": "python3"
  },
  "language_info": {
   "codemirror_mode": {
    "name": "ipython",
    "version": 3
   },
   "file_extension": ".py",
   "mimetype": "text/x-python",
   "name": "python",
   "nbconvert_exporter": "python",
   "pygments_lexer": "ipython3",
   "version": "3.7.5"
  }
 },
 "nbformat": 4,
 "nbformat_minor": 4
}
