{
 "cells": [
  {
   "cell_type": "code",
   "execution_count": 45,
   "id": "2447babe",
   "metadata": {},
   "outputs": [],
   "source": [
    "import mkwikidata \n"
   ]
  },
  {
   "cell_type": "code",
   "execution_count": 46,
   "id": "8ac24668",
   "metadata": {},
   "outputs": [],
   "source": [
    "query = \"\"\"\n",
    "SELECT DISTINCT ?cityLabel ?population ?gps\n",
    "WHERE\n",
    "{\n",
    "  ?city wdt:P31/wdt:P279* wd:Q515 .\n",
    "  ?city wdt:P17 wd:Q145 .\n",
    "  ?city wdt:P1082 ?population .\n",
    "  ?city wdt:P625 ?gps .\n",
    "  SERVICE wikibase:label {\n",
    "    bd:serviceParam wikibase:language \"en\" .\n",
    "  }\n",
    "}\n",
    "ORDER BY DESC(?population) LIMIT 40\n",
    "\"\"\"\n",
    "query_result = mkwikidata.run_query(query, params={ })"
   ]
  },
  {
   "cell_type": "code",
   "execution_count": 54,
   "id": "1822f3df",
   "metadata": {},
   "outputs": [],
   "source": [
    "print(type(query_result))"
   ]
  },
  {
   "cell_type": "code",
   "execution_count": 55,
   "id": "699c66df",
   "metadata": {},
   "outputs": [],
   "source": [
    "query_result"
   ]
  },
  {
   "cell_type": "code",
   "execution_count": 50,
   "id": "9686f623",
   "metadata": {},
   "outputs": [],
   "source": [
    "data = [{\"name\" : x[\"cityLabel\"][\"value\"], \"population\" : int(x[\"population\"][\"value\"])} for x in query_result[\"results\"][\"bindings\"]]"
   ]
  },
  {
   "cell_type": "code",
   "execution_count": 56,
   "id": "fc7db39e",
   "metadata": {},
   "outputs": [],
   "source": [
    "print(type(data))"
   ]
  },
  {
   "cell_type": "code",
   "execution_count": 57,
   "id": "9e0fb2c9",
   "metadata": {},
   "outputs": [],
   "source": [
    "print(data)"
   ]
  },
  {
   "cell_type": "code",
   "execution_count": 58,
   "id": "fee9f76b",
   "metadata": {},
   "outputs": [],
   "source": [
    "import pandas as pd\n",
    "pd.DataFrame(data).set_index(\"name\").head(10).plot.barh().invert_yaxis()\n"
   ]
  },
  {
   "cell_type": "code",
   "execution_count": null,
   "id": "170015d5",
   "metadata": {},
   "outputs": [],
   "source": []
  }
 ],
 "metadata": {
  "kernelspec": {
   "display_name": "Python 3",
   "language": "python",
   "name": "python3"
  },
  "language_info": {
   "codemirror_mode": {
    "name": "ipython",
    "version": 3
   },
   "file_extension": ".py",
   "mimetype": "text/x-python",
   "name": "python",
   "nbconvert_exporter": "python",
   "pygments_lexer": "ipython3",
   "version": "3.7.4"
  }
 },
 "nbformat": 4,
 "nbformat_minor": 5
}
