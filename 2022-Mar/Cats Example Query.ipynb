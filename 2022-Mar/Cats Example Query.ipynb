{
 "cells": [
  {
   "cell_type": "markdown",
   "id": "9a136eb7",
   "metadata": {},
   "source": [
    "# Wikidata Example Cat Query"
   ]
  },
  {
   "cell_type": "markdown",
   "id": "371b94b3",
   "metadata": {},
   "source": [
    "Import the library which we will use. \n",
    "\n",
    "You may need to run 'pip install mkwikidata' first"
   ]
  },
  {
   "cell_type": "code",
   "execution_count": 18,
   "id": "dd284eba",
   "metadata": {},
   "outputs": [],
   "source": [
    "import mkwikidata \n"
   ]
  },
  {
   "cell_type": "markdown",
   "id": "ed9e065d",
   "metadata": {},
   "source": [
    "We have created and tested our query on the Wikidata Query interface and copied the SPARQL code below. See https://w.wiki/4ugN "
   ]
  },
  {
   "cell_type": "code",
   "execution_count": 19,
   "id": "4a9b7b61",
   "metadata": {},
   "outputs": [],
   "source": [
    "query = \"\"\"\n",
    "SELECT ?item ?itemLabel \n",
    "WHERE \n",
    "{\n",
    "  ?item wdt:P31 wd:Q146. # Must be of a cat\n",
    "  SERVICE wikibase:label { bd:serviceParam wikibase:language \"[AUTO_LANGUAGE],en\". } # Helps get the label in your language, if not, then en language\n",
    "}\n",
    "\"\"\"\n"
   ]
  },
  {
   "cell_type": "markdown",
   "id": "6d02e3bc",
   "metadata": {},
   "source": [
    "Run the query"
   ]
  },
  {
   "cell_type": "code",
   "execution_count": 20,
   "id": "5883b417",
   "metadata": {},
   "outputs": [],
   "source": [
    "query_result = mkwikidata.run_query(query, params={ })"
   ]
  },
  {
   "cell_type": "markdown",
   "id": "c5caa43b",
   "metadata": {},
   "source": [
    "What does the query output?"
   ]
  },
  {
   "cell_type": "code",
   "execution_count": 26,
   "id": "78824258",
   "metadata": {},
   "outputs": [],
   "source": [
    "query_result"
   ]
  },
  {
   "cell_type": "markdown",
   "id": "5de9858f",
   "metadata": {},
   "source": [
    "What type of object do we have? "
   ]
  },
  {
   "cell_type": "code",
   "execution_count": 27,
   "id": "f57f42ab",
   "metadata": {},
   "outputs": [],
   "source": [
    "print(type(query_result))"
   ]
  },
  {
   "cell_type": "markdown",
   "id": "ec9cc314",
   "metadata": {},
   "source": [
    "We can extract the data to a list"
   ]
  },
  {
   "cell_type": "code",
   "execution_count": 29,
   "id": "872a183e",
   "metadata": {},
   "outputs": [],
   "source": [
    "data = []\n",
    "\n",
    "for x in query_result[\"results\"][\"bindings\"]:\n",
    "    data.append(x[\"itemLabel\"][\"value\"])\n",
    "    print (x[\"itemLabel\"][\"value\"])\n",
    "    "
   ]
  },
  {
   "cell_type": "code",
   "execution_count": 30,
   "id": "0226bb20",
   "metadata": {},
   "outputs": [],
   "source": [
    "print (data)"
   ]
  },
  {
   "cell_type": "code",
   "execution_count": 50,
   "id": "24f18a5c",
   "metadata": {},
   "outputs": [],
   "source": []
  }
 ],
 "metadata": {
  "kernelspec": {
   "display_name": "Python 3",
   "language": "python",
   "name": "python3"
  },
  "language_info": {
   "codemirror_mode": {
    "name": "ipython",
    "version": 3
   },
   "file_extension": ".py",
   "mimetype": "text/x-python",
   "name": "python",
   "nbconvert_exporter": "python",
   "pygments_lexer": "ipython3",
   "version": "3.7.4"
  }
 },
 "nbformat": 4,
 "nbformat_minor": 5
}
