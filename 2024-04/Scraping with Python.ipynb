{
 "cells": [
  {
   "cell_type": "markdown",
   "id": "79d8418f",
   "metadata": {},
   "source": [
    "# Scraping the web in Python\n",
    "\n",
    "## Introduction\n",
    "\n",
    "In order to do some web scraping there are certain libraries that we need to install. These are [requests](https://pypi.org/project/requests/) and [Beautiful Soup](https://pypi.org/project/beautifulsoup4/)\n",
    "\n",
    "If you do not have these installed you can do so by running the commands \n",
    "\n",
    "<pre>\n",
    ">> pip install requests\n",
    "\n",
    ">> pip install beautifulsoup4 \n",
    "</pre>\n",
    "\n",
    "The first, __requests__, allows us to send HTTP requests and retrieve conplete web pages (the full HTML - not just the presented text). The second, __Beautiful Soup__, is used to parse the retrived code, find elements and extract text or other aspects that we are interested in. "
   ]
  },
  {
   "cell_type": "markdown",
   "id": "308f3bbe",
   "metadata": {},
   "source": [
    "## Example\n",
    "\n",
    "In this example we are going to get the population of the city of Stirling from Wikipedia. "
   ]
  },
  {
   "cell_type": "markdown",
   "id": "643520bb",
   "metadata": {},
   "source": [
    "### Loading the libraries\n",
    "\n",
    "We load these libraries as follows"
   ]
  },
  {
   "cell_type": "code",
   "execution_count": 94,
   "id": "0497901b",
   "metadata": {},
   "outputs": [],
   "source": [
    "# import our libraries\n",
    "import requests\n",
    "from bs4 import BeautifulSoup"
   ]
  },
  {
   "cell_type": "markdown",
   "id": "238bd90a",
   "metadata": {},
   "source": [
    "### Create variables\n",
    "\n",
    "We'll have a string for city, another for the url of the page to be scraped, and an integer for the population which we don't know the value of yet. "
   ]
  },
  {
   "cell_type": "code",
   "execution_count": 95,
   "id": "c04acb3a",
   "metadata": {},
   "outputs": [],
   "source": [
    "school = \"Lochside Academy\" \n",
    "url = \"https://lochside.aberdeen.sch.uk/school-uniform/\"\n",
    "items_s1_s3 =list()\n",
    "items_s4_s6 = list()\n"
   ]
  },
  {
   "cell_type": "markdown",
   "id": "dfb43686",
   "metadata": {},
   "source": [
    "### Using requests, get the code from our URL"
   ]
  },
  {
   "cell_type": "code",
   "execution_count": 96,
   "id": "a89aa438",
   "metadata": {},
   "outputs": [],
   "source": [
    "r = requests.get(url)\n"
   ]
  },
  {
   "cell_type": "markdown",
   "id": "99f5aed3",
   "metadata": {},
   "source": [
    "### Create a Beautiful Soup object\n",
    "\n",
    "The coding convention is to call this 'soup' but you can call it what you like. Sticking to the convention makes reading similar code more straight-forward"
   ]
  },
  {
   "cell_type": "code",
   "execution_count": 97,
   "id": "be7d2561",
   "metadata": {},
   "outputs": [],
   "source": [
    "soup = BeautifulSoup(r.content,\"html.parser\")\n"
   ]
  },
  {
   "cell_type": "markdown",
   "id": "6f1e53b9",
   "metadata": {},
   "source": [
    "If we want to we can have a look at the contents of the soup object. It may not be particularly readable! \n",
    "\n",
    "Having Chrome or a similar browser open while you write your code, and using the Inspector to look at the page HTML can help us to find what we're looking for.\n",
    "\n"
   ]
  },
  {
   "cell_type": "code",
   "execution_count": 98,
   "id": "e72e99df",
   "metadata": {},
   "outputs": [
    {
     "name": "stdout",
     "output_type": "stream",
     "text": [
      "<!DOCTYPE html>\n",
      "\n",
      "<html lang=\"en-GB\">\n",
      "<head>\n",
      "<meta charset=\"utf-8\"/>\n",
      "<meta content=\"width=device-width, initial-scale=1\" name=\"viewport\"/>\n",
      "<link href=\"http://gmpg.org/xfn/11\" rel=\"profile\"/>\n",
      "<link href=\"https://lochside.aberdeen.sch.uk/xmlrpc.php\" rel=\"pingback\"/>\n",
      "<title>School Uniform</title>\n",
      "<meta content=\"max-image-preview:large\" name=\"robots\">\n",
      "<link href=\"//fonts.googleapis.com\" rel=\"dns-prefetch\">\n",
      "<link href=\"https://lochside.aberdeen.sch.uk/feed/\" rel=\"alternate\" title=\" » Feed\" type=\"application/rss+xml\">\n",
      "<link href=\"https://lochside.aberdeen.sch.uk/comments/feed/\" rel=\"alternate\" title=\" » Comments Feed\" type=\"application/rss+xml\"/>\n",
      "<script type=\"text/javascript\">\n",
      "/* <![CDATA[ */\n",
      "window._wpemojiSettings = {\"baseUrl\":\"https:\\/\\/s.w.org\\/images\\/core\\/emoji\\/14.0.0\\/72x72\\/\",\"ext\":\".png\",\"svgUrl\":\"https:\\/\\/s.w.org\\/images\\/core\\/emoji\\/14.0.0\\/svg\\/\",\"svgExt\":\".svg\",\"source\":{\"concatemoji\":\"https:\\/\\/lochside.aberdeen.sch.uk\\/wp-includes\\/js\\/wp-emoji-release.min.js?ver=6.4.3\"}};\n",
      "/*! This file is auto-generated */\n",
      "!function(i,n){var o,s,e;function c(e){try{var t={supportTests:e,timestamp:(new Date).valueOf()};sessionStorage.setItem(o,JSON.stringify(t))}catch(e){}}function p(e,t,n){e.clearRect(0,0,e.canvas.width,e.canvas.height),e.fillText(t,0,0);var t=new Uint32Array(e.getImageData(0,0,e.canvas.width,e.canvas.height).data),r=(e.clearRect(0,0,e.canvas.width,e.canvas.height),e.fillText(n,0,0),new Uint32Array(e.getImageData(0,0,e.canvas.width,e.canvas.height).data));return t.every(function(e,t){return e===r[t]})}function u(e,t,n){switch(t){case\"flag\":return n(e,\"\\ud83c\\udff3\\ufe0f\\u200d\\u26a7\\ufe0f\",\"\\ud83c\\udff3\\ufe0f\\u200b\\u26a7\\ufe0f\")?!1:!n(e,\"\\ud83c\\uddfa\\ud83c\\uddf3\",\"\\ud83c\\uddfa\\u200b\\ud83c\\uddf3\")&&!n(e,\"\\ud83c\\udff4\\udb40\\udc67\\udb40\\udc62\\udb40\\udc65\\udb40\\udc6e\\udb40\\udc67\\udb40\\udc7f\",\"\\ud83c\\udff4\\u200b\\udb40\\udc67\\u200b\\udb40\\udc62\\u200b\\udb40\\udc65\\u200b\\udb40\\udc6e\\u200b\\udb40\\udc67\\u200b\\udb40\\udc7f\");case\"emoji\":return!n(e,\"\\ud83e\\udef1\\ud83c\\udffb\\u200d\\ud83e\\udef2\\ud83c\\udfff\",\"\\ud83e\\udef1\\ud83c\\udffb\\u200b\\ud83e\\udef2\\ud83c\\udfff\")}return!1}function f(e,t,n){var r=\"undefined\"!=typeof WorkerGlobalScope&&self instanceof WorkerGlobalScope?new OffscreenCanvas(300,150):i.createElement(\"canvas\"),a=r.getContext(\"2d\",{willReadFrequently:!0}),o=(a.textBaseline=\"top\",a.font=\"600 32px Arial\",{});return e.forEach(function(e){o[e]=t(a,e,n)}),o}function t(e){var t=i.createElement(\"script\");t.src=e,t.defer=!0,i.head.appendChild(t)}\"undefined\"!=typeof Promise&&(o=\"wpEmojiSettingsSupports\",s=[\"flag\",\"emoji\"],n.supports={everything:!0,everythingExceptFlag:!0},e=new Promise(function(e){i.addEventListener(\"DOMContentLoaded\",e,{once:!0})}),new Promise(function(t){var n=function(){try{var e=JSON.parse(sessionStorage.getItem(o));if(\"object\"==typeof e&&\"number\"==typeof e.timestamp&&(new Date).valueOf()<e.timestamp+604800&&\"object\"==typeof e.supportTests)return e.supportTests}catch(e){}return null}();if(!n){if(\"undefined\"!=typeof Worker&&\"undefined\"!=typeof OffscreenCanvas&&\"undefined\"!=typeof URL&&URL.createObjectURL&&\"undefined\"!=typeof Blob)try{var e=\"postMessage(\"+f.toString()+\"(\"+[JSON.stringify(s),u.toString(),p.toString()].join(\",\")+\"));\",r=new Blob([e],{type:\"text/javascript\"}),a=new Worker(URL.createObjectURL(r),{name:\"wpTestEmojiSupports\"});return void(a.onmessage=function(e){c(n=e.data),a.terminate(),t(n)})}catch(e){}c(n=f(s,u,p))}t(n)}).then(function(e){for(var t in e)n.supports[t]=e[t],n.supports.everything=n.supports.everything&&n.supports[t],\"flag\"!==t&&(n.supports.everythingExceptFlag=n.supports.everythingExceptFlag&&n.supports[t]);n.supports.everythingExceptFlag=n.supports.everythingExceptFlag&&!n.supports.flag,n.DOMReady=!1,n.readyCallback=function(){n.DOMReady=!0}}).then(function(){return e}).then(function(){var e;n.supports.everything||(n.readyCallback(),(e=n.source||{}).concatemoji?t(e.concatemoji):e.wpemoji&&e.twemoji&&(t(e.twemoji),t(e.wpemoji)))}))}((window,document),window._wpemojiSettings);\n",
      "/* ]]> */\n",
      "</script>\n",
      "<link href=\"https://lochside.aberdeen.sch.uk/wp-content/plugins/simple-google-recaptcha/sgr.css?ver=1663384823\" id=\"sgr-css\" media=\"all\" rel=\"stylesheet\" type=\"text/css\"/>\n",
      "<link href=\"https://lochside.aberdeen.sch.uk/wp-content/themes/sydney-pro-ii/css/bootstrap/bootstrap.min.css?ver=1\" id=\"sydney-bootstrap-css\" media=\"all\" rel=\"stylesheet\" type=\"text/css\"/>\n",
      "<style id=\"wp-emoji-styles-inline-css\" type=\"text/css\">\n",
      "\n",
      "\timg.wp-smiley, img.emoji {\n",
      "\t\tdisplay: inline !important;\n",
      "\t\tborder: none !important;\n",
      "\t\tbox-shadow: none !important;\n",
      "\t\theight: 1em !important;\n",
      "\t\twidth: 1em !important;\n",
      "\t\tmargin: 0 0.07em !important;\n",
      "\t\tvertical-align: -0.1em !important;\n",
      "\t\tbackground: none !important;\n",
      "\t\tpadding: 0 !important;\n",
      "\t}\n",
      "</style>\n",
      "<link href=\"https://lochside.aberdeen.sch.uk/wp-includes/css/dist/block-library/style.min.css?ver=6.4.3\" id=\"wp-block-library-css\" media=\"all\" rel=\"stylesheet\" type=\"text/css\"/>\n",
      "<style id=\"classic-theme-styles-inline-css\" type=\"text/css\">\n",
      "/*! This file is auto-generated */\n",
      ".wp-block-button__link{color:#fff;background-color:#32373c;border-radius:9999px;box-shadow:none;text-decoration:none;padding:calc(.667em + 2px) calc(1.333em + 2px);font-size:1.125em}.wp-block-file__button{background:#32373c;color:#fff;text-decoration:none}\n",
      "</style>\n",
      "<style id=\"global-styles-inline-css\" type=\"text/css\">\n",
      "body{--wp--preset--color--black: #000000;--wp--preset--color--cyan-bluish-gray: #abb8c3;--wp--preset--color--white: #ffffff;--wp--preset--color--pale-pink: #f78da7;--wp--preset--color--vivid-red: #cf2e2e;--wp--preset--color--luminous-vivid-orange: #ff6900;--wp--preset--color--luminous-vivid-amber: #fcb900;--wp--preset--color--light-green-cyan: #7bdcb5;--wp--preset--color--vivid-green-cyan: #00d084;--wp--preset--color--pale-cyan-blue: #8ed1fc;--wp--preset--color--vivid-cyan-blue: #0693e3;--wp--preset--color--vivid-purple: #9b51e0;--wp--preset--gradient--vivid-cyan-blue-to-vivid-purple: linear-gradient(135deg,rgba(6,147,227,1) 0%,rgb(155,81,224) 100%);--wp--preset--gradient--light-green-cyan-to-vivid-green-cyan: linear-gradient(135deg,rgb(122,220,180) 0%,rgb(0,208,130) 100%);--wp--preset--gradient--luminous-vivid-amber-to-luminous-vivid-orange: linear-gradient(135deg,rgba(252,185,0,1) 0%,rgba(255,105,0,1) 100%);--wp--preset--gradient--luminous-vivid-orange-to-vivid-red: linear-gradient(135deg,rgba(255,105,0,1) 0%,rgb(207,46,46) 100%);--wp--preset--gradient--very-light-gray-to-cyan-bluish-gray: linear-gradient(135deg,rgb(238,238,238) 0%,rgb(169,184,195) 100%);--wp--preset--gradient--cool-to-warm-spectrum: linear-gradient(135deg,rgb(74,234,220) 0%,rgb(151,120,209) 20%,rgb(207,42,186) 40%,rgb(238,44,130) 60%,rgb(251,105,98) 80%,rgb(254,248,76) 100%);--wp--preset--gradient--blush-light-purple: linear-gradient(135deg,rgb(255,206,236) 0%,rgb(152,150,240) 100%);--wp--preset--gradient--blush-bordeaux: linear-gradient(135deg,rgb(254,205,165) 0%,rgb(254,45,45) 50%,rgb(107,0,62) 100%);--wp--preset--gradient--luminous-dusk: linear-gradient(135deg,rgb(255,203,112) 0%,rgb(199,81,192) 50%,rgb(65,88,208) 100%);--wp--preset--gradient--pale-ocean: linear-gradient(135deg,rgb(255,245,203) 0%,rgb(182,227,212) 50%,rgb(51,167,181) 100%);--wp--preset--gradient--electric-grass: linear-gradient(135deg,rgb(202,248,128) 0%,rgb(113,206,126) 100%);--wp--preset--gradient--midnight: linear-gradient(135deg,rgb(2,3,129) 0%,rgb(40,116,252) 100%);--wp--preset--font-size--small: 13px;--wp--preset--font-size--medium: 20px;--wp--preset--font-size--large: 36px;--wp--preset--font-size--x-large: 42px;--wp--preset--spacing--20: 0.44rem;--wp--preset--spacing--30: 0.67rem;--wp--preset--spacing--40: 1rem;--wp--preset--spacing--50: 1.5rem;--wp--preset--spacing--60: 2.25rem;--wp--preset--spacing--70: 3.38rem;--wp--preset--spacing--80: 5.06rem;--wp--preset--shadow--natural: 6px 6px 9px rgba(0, 0, 0, 0.2);--wp--preset--shadow--deep: 12px 12px 50px rgba(0, 0, 0, 0.4);--wp--preset--shadow--sharp: 6px 6px 0px rgba(0, 0, 0, 0.2);--wp--preset--shadow--outlined: 6px 6px 0px -3px rgba(255, 255, 255, 1), 6px 6px rgba(0, 0, 0, 1);--wp--preset--shadow--crisp: 6px 6px 0px rgba(0, 0, 0, 1);}:where(.is-layout-flex){gap: 0.5em;}:where(.is-layout-grid){gap: 0.5em;}body .is-layout-flow > .alignleft{float: left;margin-inline-start: 0;margin-inline-end: 2em;}body .is-layout-flow > .alignright{float: right;margin-inline-start: 2em;margin-inline-end: 0;}body .is-layout-flow > .aligncenter{margin-left: auto !important;margin-right: auto !important;}body .is-layout-constrained > .alignleft{float: left;margin-inline-start: 0;margin-inline-end: 2em;}body .is-layout-constrained > .alignright{float: right;margin-inline-start: 2em;margin-inline-end: 0;}body .is-layout-constrained > .aligncenter{margin-left: auto !important;margin-right: auto !important;}body .is-layout-constrained > :where(:not(.alignleft):not(.alignright):not(.alignfull)){max-width: var(--wp--style--global--content-size);margin-left: auto !important;margin-right: auto !important;}body .is-layout-constrained > .alignwide{max-width: var(--wp--style--global--wide-size);}body .is-layout-flex{display: flex;}body .is-layout-flex{flex-wrap: wrap;align-items: center;}body .is-layout-flex > *{margin: 0;}body .is-layout-grid{display: grid;}body .is-layout-grid > *{margin: 0;}:where(.wp-block-columns.is-layout-flex){gap: 2em;}:where(.wp-block-columns.is-layout-grid){gap: 2em;}:where(.wp-block-post-template.is-layout-flex){gap: 1.25em;}:where(.wp-block-post-template.is-layout-grid){gap: 1.25em;}.has-black-color{color: var(--wp--preset--color--black) !important;}.has-cyan-bluish-gray-color{color: var(--wp--preset--color--cyan-bluish-gray) !important;}.has-white-color{color: var(--wp--preset--color--white) !important;}.has-pale-pink-color{color: var(--wp--preset--color--pale-pink) !important;}.has-vivid-red-color{color: var(--wp--preset--color--vivid-red) !important;}.has-luminous-vivid-orange-color{color: var(--wp--preset--color--luminous-vivid-orange) !important;}.has-luminous-vivid-amber-color{color: var(--wp--preset--color--luminous-vivid-amber) !important;}.has-light-green-cyan-color{color: var(--wp--preset--color--light-green-cyan) !important;}.has-vivid-green-cyan-color{color: var(--wp--preset--color--vivid-green-cyan) !important;}.has-pale-cyan-blue-color{color: var(--wp--preset--color--pale-cyan-blue) !important;}.has-vivid-cyan-blue-color{color: var(--wp--preset--color--vivid-cyan-blue) !important;}.has-vivid-purple-color{color: var(--wp--preset--color--vivid-purple) !important;}.has-black-background-color{background-color: var(--wp--preset--color--black) !important;}.has-cyan-bluish-gray-background-color{background-color: var(--wp--preset--color--cyan-bluish-gray) !important;}.has-white-background-color{background-color: var(--wp--preset--color--white) !important;}.has-pale-pink-background-color{background-color: var(--wp--preset--color--pale-pink) !important;}.has-vivid-red-background-color{background-color: var(--wp--preset--color--vivid-red) !important;}.has-luminous-vivid-orange-background-color{background-color: var(--wp--preset--color--luminous-vivid-orange) !important;}.has-luminous-vivid-amber-background-color{background-color: var(--wp--preset--color--luminous-vivid-amber) !important;}.has-light-green-cyan-background-color{background-color: var(--wp--preset--color--light-green-cyan) !important;}.has-vivid-green-cyan-background-color{background-color: var(--wp--preset--color--vivid-green-cyan) !important;}.has-pale-cyan-blue-background-color{background-color: var(--wp--preset--color--pale-cyan-blue) !important;}.has-vivid-cyan-blue-background-color{background-color: var(--wp--preset--color--vivid-cyan-blue) !important;}.has-vivid-purple-background-color{background-color: var(--wp--preset--color--vivid-purple) !important;}.has-black-border-color{border-color: var(--wp--preset--color--black) !important;}.has-cyan-bluish-gray-border-color{border-color: var(--wp--preset--color--cyan-bluish-gray) !important;}.has-white-border-color{border-color: var(--wp--preset--color--white) !important;}.has-pale-pink-border-color{border-color: var(--wp--preset--color--pale-pink) !important;}.has-vivid-red-border-color{border-color: var(--wp--preset--color--vivid-red) !important;}.has-luminous-vivid-orange-border-color{border-color: var(--wp--preset--color--luminous-vivid-orange) !important;}.has-luminous-vivid-amber-border-color{border-color: var(--wp--preset--color--luminous-vivid-amber) !important;}.has-light-green-cyan-border-color{border-color: var(--wp--preset--color--light-green-cyan) !important;}.has-vivid-green-cyan-border-color{border-color: var(--wp--preset--color--vivid-green-cyan) !important;}.has-pale-cyan-blue-border-color{border-color: var(--wp--preset--color--pale-cyan-blue) !important;}.has-vivid-cyan-blue-border-color{border-color: var(--wp--preset--color--vivid-cyan-blue) !important;}.has-vivid-purple-border-color{border-color: var(--wp--preset--color--vivid-purple) !important;}.has-vivid-cyan-blue-to-vivid-purple-gradient-background{background: var(--wp--preset--gradient--vivid-cyan-blue-to-vivid-purple) !important;}.has-light-green-cyan-to-vivid-green-cyan-gradient-background{background: var(--wp--preset--gradient--light-green-cyan-to-vivid-green-cyan) !important;}.has-luminous-vivid-amber-to-luminous-vivid-orange-gradient-background{background: var(--wp--preset--gradient--luminous-vivid-amber-to-luminous-vivid-orange) !important;}.has-luminous-vivid-orange-to-vivid-red-gradient-background{background: var(--wp--preset--gradient--luminous-vivid-orange-to-vivid-red) !important;}.has-very-light-gray-to-cyan-bluish-gray-gradient-background{background: var(--wp--preset--gradient--very-light-gray-to-cyan-bluish-gray) !important;}.has-cool-to-warm-spectrum-gradient-background{background: var(--wp--preset--gradient--cool-to-warm-spectrum) !important;}.has-blush-light-purple-gradient-background{background: var(--wp--preset--gradient--blush-light-purple) !important;}.has-blush-bordeaux-gradient-background{background: var(--wp--preset--gradient--blush-bordeaux) !important;}.has-luminous-dusk-gradient-background{background: var(--wp--preset--gradient--luminous-dusk) !important;}.has-pale-ocean-gradient-background{background: var(--wp--preset--gradient--pale-ocean) !important;}.has-electric-grass-gradient-background{background: var(--wp--preset--gradient--electric-grass) !important;}.has-midnight-gradient-background{background: var(--wp--preset--gradient--midnight) !important;}.has-small-font-size{font-size: var(--wp--preset--font-size--small) !important;}.has-medium-font-size{font-size: var(--wp--preset--font-size--medium) !important;}.has-large-font-size{font-size: var(--wp--preset--font-size--large) !important;}.has-x-large-font-size{font-size: var(--wp--preset--font-size--x-large) !important;}\n",
      ".wp-block-navigation a:where(:not(.wp-element-button)){color: inherit;}\n",
      ":where(.wp-block-post-template.is-layout-flex){gap: 1.25em;}:where(.wp-block-post-template.is-layout-grid){gap: 1.25em;}\n",
      ":where(.wp-block-columns.is-layout-flex){gap: 2em;}:where(.wp-block-columns.is-layout-grid){gap: 2em;}\n",
      ".wp-block-pullquote{font-size: 1.5em;line-height: 1.6;}\n",
      "</style>\n",
      "<link href=\"https://lochside.aberdeen.sch.uk/wp-content/plugins/crelly-slider/css/crellyslider.min.css?ver=1.4.5\" id=\"crellyslider.min-css\" media=\"all\" rel=\"stylesheet\" type=\"text/css\"/>\n",
      "<link href=\"https://lochside.aberdeen.sch.uk/wp-content/plugins/siteorigin-panels/css/front-flex.min.css?ver=2.29.6\" id=\"siteorigin-panels-front-css\" media=\"all\" rel=\"stylesheet\" type=\"text/css\"/>\n",
      "<link href=\"https://lochside.aberdeen.sch.uk/wp-content/uploads/siteorigin-widgets/sow-image-default-8b5b6f678277-188.css?ver=6.4.3\" id=\"sow-image-default-8b5b6f678277-188-css\" media=\"all\" rel=\"stylesheet\" type=\"text/css\"/>\n",
      "<link href=\"https://fonts.googleapis.com/css?family=Source+Sans+Pro%3A400%2C400italic%2C600%7CRaleway%3A400%2C500%2C600\" id=\"sydney-fonts-css\" media=\"all\" rel=\"stylesheet\" type=\"text/css\"/>\n",
      "<link href=\"https://lochside.aberdeen.sch.uk/wp-content/themes/sydney-pro-ii/style.css?ver=20170621\" id=\"sydney-style-css\" media=\"all\" rel=\"stylesheet\" type=\"text/css\"/>\n",
      "<style id=\"sydney-style-inline-css\" type=\"text/css\">\n",
      ".site-header { background-color:rgba(0,0,0,0.9);}\n",
      ".site-header.float-header {padding:20px 0;}\n",
      ".site-title { font-size:32px; }\n",
      ".site-description { font-size:16px; }\n",
      "#mainnav ul li a { font-size:14px; }\n",
      "h1 { font-size:52px; }\n",
      "h2 { font-size:42px; }\n",
      "h3 { font-size:32px; }\n",
      "h4 { font-size:25px; }\n",
      "h5 { font-size:20px; }\n",
      "h6 { font-size:18px; }\n",
      "body { font-size:14px; }\n",
      ".header-image { background-size:cover;}\n",
      ".header-image { height:300px; }\n",
      ".header-wrap .col-md-4, .header-wrap .col-md-8 { width: 100%; text-align: center;}\n",
      "#mainnav { float: none;}\n",
      "#mainnav li { float: none; display: inline-block;}\n",
      "#mainnav ul ul li { display: block; text-align: left; float:left;}\n",
      ".site-logo, .header-wrap .col-md-4 { margin-bottom: 15px; }\n",
      ".btn-menu { margin: 0 auto; float: none; }\n",
      ".header-wrap .container > .row { display: block; }\n",
      ".site-header.float-header { background-color:rgba(0,0,0,0.9);}\n",
      "@media only screen and (max-width: 1024px) { .site-header { background-color:#000000;}}\n",
      ".site-title a, .site-title a:hover { color:#ffffff}\n",
      ".site-description { color:#ffffff}\n",
      "#mainnav ul li a, #mainnav ul li::before { color:#ffffff}\n",
      "#mainnav .sub-menu li a { color:#ffffff}\n",
      "#mainnav .sub-menu li a { background:#1c1c1c}\n",
      ".text-slider .maintitle, .text-slider .subtitle { color:#ffffff}\n",
      "body { color:#767676}\n",
      "#secondary { background-color:#ffffff}\n",
      "#secondary, #secondary a, #secondary .widget-title { color:#767676}\n",
      ".footer-widgets { background-color:#252525}\n",
      ".site-footer { background-color:#1c1c1c}\n",
      ".site-footer,.site-footer a { color:#666666}\n",
      ".overlay { background-color:#000000}\n",
      ".btn-menu { color:#ffffff}\n",
      "#mainnav ul li a:hover { color:#d65050}\n",
      ".site-info { text-align: center; }\n",
      ".panel-grid-cell .widget-title { margin-bottom:50px; }\n",
      ".panel-grid-cell .widget-title { text-transform:uppercase; }\n",
      ".header-contact { background-color:#1c1c1c}\n",
      ".header-contact { color:#c5c5c5}\n",
      ".roll-button { padding-top:12px;padding-bottom:12px; }\n",
      ".roll-button { padding-left:35px;padding-right:35px; }\n",
      ".roll-button { font-size:13px; }\n",
      ".roll-button { border-radius:3px; }\n",
      ".header-widgets {background-color:#777777;}\n",
      ".header-widgets {color:#767676;}\n",
      ".page-id-188 .entry-header { display: none;}\n",
      ".page-wrap { padding-top:0px;}\n",
      ".page-wrap { padding-bottom:0px;}\n",
      "@media only screen and (max-width: 1025px) {\t\t\r\n",
      "\t\t\t.mobile-slide {\r\n",
      "\t\t\t\tdisplay: block;\r\n",
      "\t\t\t}\r\n",
      "\t\t\t.slide-item {\r\n",
      "\t\t\t\tbackground-image: none !important;\r\n",
      "\t\t\t}\r\n",
      "\t\t\t.header-slider {\r\n",
      "\t\t\t}\r\n",
      "\t\t\t.slide-item {\r\n",
      "\t\t\t\theight: auto !important;\r\n",
      "\t\t\t}\r\n",
      "\t\t\t.slide-inner {\r\n",
      "\t\t\t\tmin-height: initial;\r\n",
      "\t\t\t} \r\n",
      "\t\t}\n",
      "\n",
      "</style>\n",
      "<link href=\"https://lochside.aberdeen.sch.uk/wp-content/themes/sydney-pro-ii/fonts/font-awesome.min.css?ver=6.4.3\" id=\"sydney-font-awesome-css\" media=\"all\" rel=\"stylesheet\" type=\"text/css\"/>\n",
      "<!--[if lte IE 9]>\n",
      "<link rel='stylesheet' id='sydney-ie9-css' href='https://lochside.aberdeen.sch.uk/wp-content/themes/sydney-pro-ii/css/ie9.css?ver=6.4.3' type='text/css' media='all' />\n",
      "<![endif]-->\n",
      "<script id=\"sgr-js-extra\" type=\"text/javascript\">\n",
      "/* <![CDATA[ */\n",
      "var sgr = {\"sgr_site_key\":\"6LdvPoMUAAAAABLNvSoxiFL7Vwdo47vOGBDwXhJn\"};\n",
      "/* ]]> */\n",
      "</script>\n",
      "<script id=\"sgr-js\" src=\"https://lochside.aberdeen.sch.uk/wp-content/plugins/simple-google-recaptcha/sgr.js?ver=1663384823\" type=\"text/javascript\"></script>\n",
      "<script id=\"jquery-core-js\" src=\"https://lochside.aberdeen.sch.uk/wp-includes/js/jquery/jquery.min.js?ver=3.7.1\" type=\"text/javascript\"></script>\n",
      "<script id=\"jquery-migrate-js\" src=\"https://lochside.aberdeen.sch.uk/wp-includes/js/jquery/jquery-migrate.min.js?ver=3.4.1\" type=\"text/javascript\"></script>\n",
      "<script id=\"jquery-ui-core-js\" src=\"https://lochside.aberdeen.sch.uk/wp-includes/js/jquery/ui/core.min.js?ver=1.13.2\" type=\"text/javascript\"></script>\n",
      "<script id=\"jquery.crellyslider.min-js\" src=\"https://lochside.aberdeen.sch.uk/wp-content/plugins/crelly-slider/js/jquery.crellyslider.min.js?ver=1.4.5\" type=\"text/javascript\"></script>\n",
      "<link href=\"https://lochside.aberdeen.sch.uk/wp-json/\" rel=\"https://api.w.org/\"/><link href=\"https://lochside.aberdeen.sch.uk/wp-json/wp/v2/pages/188\" rel=\"alternate\" type=\"application/json\"/><link href=\"https://lochside.aberdeen.sch.uk/xmlrpc.php?rsd\" rel=\"EditURI\" title=\"RSD\" type=\"application/rsd+xml\"/>\n",
      "<meta content=\"WordPress 6.4.3\" name=\"generator\">\n",
      "<link href=\"https://lochside.aberdeen.sch.uk/school-uniform/\" rel=\"canonical\"/>\n",
      "<link href=\"https://lochside.aberdeen.sch.uk/?p=188\" rel=\"shortlink\"/>\n",
      "<link href=\"https://lochside.aberdeen.sch.uk/wp-json/oembed/1.0/embed?url=https%3A%2F%2Flochside.aberdeen.sch.uk%2Fschool-uniform%2F\" rel=\"alternate\" type=\"application/json+oembed\"/>\n",
      "<link href=\"https://lochside.aberdeen.sch.uk/wp-json/oembed/1.0/embed?url=https%3A%2F%2Flochside.aberdeen.sch.uk%2Fschool-uniform%2F&amp;format=xml\" rel=\"alternate\" type=\"text/xml+oembed\"/>\n",
      "<style id=\"siteorigin-panels-layouts-head\" media=\"all\" type=\"text/css\">/* Layout 188 */ #pgc-188-0-0 { width:100%;width:calc(100% - ( 0 * 30px ) ) } #pl-188 #panel-188-0-0-1 { margin:8px 8px 8px 8px } #pl-188 .so-panel , #pl-188 .so-panel:last-of-type { margin-bottom:0px } #panel-188-0-0-0> .panel-widget-style , #panel-188-0-0-1> .panel-widget-style { padding:8px 8px 8px 8px } @media (max-width:780px){ #pg-188-0.panel-no-style, #pg-188-0.panel-has-style > .panel-row-style, #pg-188-0 { -webkit-flex-direction:column;-ms-flex-direction:column;flex-direction:column } #pg-188-0 > .panel-grid-cell , #pg-188-0 > .panel-row-style > .panel-grid-cell { width:100%;margin-right:0 } #pl-188 .panel-grid-cell { padding:0 } #pl-188 .panel-grid .panel-grid-cell-empty { display:none } #pl-188 .panel-grid .panel-grid-cell-mobile-last { margin-bottom:0px }  } </style><link href=\"https://lochside.aberdeen.sch.uk/wp-content/uploads/2017/09/cropped-badge-32x32.png\" rel=\"icon\" sizes=\"32x32\"/>\n",
      "<link href=\"https://lochside.aberdeen.sch.uk/wp-content/uploads/2017/09/cropped-badge-192x192.png\" rel=\"icon\" sizes=\"192x192\"/>\n",
      "<link href=\"https://lochside.aberdeen.sch.uk/wp-content/uploads/2017/09/cropped-badge-180x180.png\" rel=\"apple-touch-icon\"/>\n",
      "<meta content=\"https://lochside.aberdeen.sch.uk/wp-content/uploads/2017/09/cropped-badge-270x270.png\" name=\"msapplication-TileImage\"/>\n",
      "<style id=\"wp-custom-css\" type=\"text/css\">\n",
      "\t\t\t.page-id-10 .content-wrapper.container {\n",
      " padding-top: 0px; \n",
      "\tpadding-bottom:10px;\n",
      "}\n",
      "\n",
      ".page-id-10 div[style] {\n",
      "\t padding: 1px  0px!important;\n",
      "}\n",
      "\n",
      ".page-id-10 .page-wrap .content-wrapper {\n",
      "\tbackground-color:#f5f5f5;\n",
      "\talignment-adjust:center;\n",
      "\tbox-shadow: 10px 25px 25px 5px #F72020;\n",
      "}\n",
      "/*********************/\n",
      "/*change the colour of the title of the slides*/\n",
      "\n",
      ".page-id-10 .maintitle{\n",
      "\tcolor:#F72020;\n",
      "\ttext-shadow: 3px 2px 4px #002266;\n",
      "\t}\n",
      "\n",
      "/* Main menu styles\n",
      ".mainnav {\n",
      "  background-color: black;\n",
      "/*\topacity: 0.85;*/\n",
      "\t\t\n",
      "\t\n",
      "}\n",
      "\n",
      ".mainnav li {\n",
      "  display: inline-block;\n",
      "  margin-right: 10px;\n",
      "}\n",
      "\n",
      ".mainnav li a {\n",
      "  color: red;\n",
      "  text-decoration: none;\n",
      "  padding: 12px;\n",
      "  transition: background-color 0.3s ease;\n",
      "\t\n",
      "}\n",
      "\n",
      ".mainnav li:hover {\n",
      "  \n",
      "\tbackground-color:black;\n",
      "\t/*opacity:0.90;*/\n",
      "\tborder: 1px solid red\n",
      "}\n",
      "\n",
      "/* Mobile menu styles*/\n",
      "@media (max-width: 768px) {\n",
      "  .mainnav {\n",
      "    display: none;\n",
      "  }\n",
      "  \n",
      "  /* Add mobile menu icon */\n",
      "  .mobile-menu-icon {\n",
      "    display: block;\n",
      "    background-color: black;\n",
      "    color: white;\n",
      "    text-align: center;\n",
      "    padding: 10px;\n",
      "    cursor: pointer;\n",
      "  }\n",
      "  \n",
      "  /* Show/hide mobile menu on icon click */\n",
      "  .mobile-menu-icon.active ~ .main-menu {\n",
      "    display: block;\n",
      "  }\n",
      "}\t\t</style>\n",
      "</meta></link></link></meta></head>\n",
      "<body class=\"page-template-default page page-id-188 wp-custom-logo siteorigin-panels siteorigin-panels-before-js group-blog no-hero\">\n",
      "<div class=\"preloader\">\n",
      "<div class=\"spinner\">\n",
      "<div class=\"pre-bounce1\"></div>\n",
      "<div class=\"pre-bounce2\"></div>\n",
      "</div>\n",
      "</div>\n",
      "<div class=\"hfeed site\" id=\"page\">\n",
      "<a class=\"skip-link screen-reader-text\" href=\"#content\">Skip to content</a>\n",
      "<div class=\"header-clone\"></div>\n",
      "<header class=\"site-header\" id=\"masthead\" role=\"banner\">\n",
      "<div class=\"header-wrap\">\n",
      "<div class=\"container\">\n",
      "<div class=\"row\">\n",
      "<div class=\"col-md-4 col-sm-8 col-xs-12\">\n",
      "<a href=\"https://lochside.aberdeen.sch.uk/\" title=\"\"><img alt=\"\" class=\"site-logo\" src=\"https://lochside.aberdeen.sch.uk/wp-content/uploads/2017/09/badgesml.png\"/></a>\n",
      "</div>\n",
      "<div class=\"col-md-8 col-sm-4 col-xs-12\">\n",
      "<div class=\"btn-menu\"></div>\n",
      "<nav class=\"mainnav\" id=\"mainnav\" role=\"navigation\">\n",
      "<div class=\"menu-menu11-container\"><ul class=\"menu\" id=\"menu-menu11\"><li class=\"menu-item menu-item-type-post_type menu-item-object-page menu-item-home menu-item-3730\" id=\"menu-item-3730\"><a href=\"https://lochside.aberdeen.sch.uk/\">Homepage</a></li>\n",
      "<li class=\"menu-item menu-item-type-custom menu-item-object-custom current-menu-ancestor current-menu-parent menu-item-has-children menu-item-3781\" id=\"menu-item-3781\"><a href=\"https://lochside.aberdeen.sch.uk/about/\">Our School</a>\n",
      "<ul class=\"sub-menu\">\n",
      "<li class=\"menu-item menu-item-type-post_type menu-item-object-page menu-item-3735\" id=\"menu-item-3735\"><a href=\"https://lochside.aberdeen.sch.uk/about/\">About</a></li>\n",
      "<li class=\"menu-item menu-item-type-post_type menu-item-object-page menu-item-3731\" id=\"menu-item-3731\"><a href=\"https://lochside.aberdeen.sch.uk/our-school-day/\">School Information</a></li>\n",
      "<li class=\"menu-item menu-item-type-post_type menu-item-object-page menu-item-3810\" id=\"menu-item-3810\"><a href=\"https://lochside.aberdeen.sch.uk/our-improvement-journey/\">Improvement Journey</a></li>\n",
      "<li class=\"menu-item menu-item-type-post_type menu-item-object-page current-menu-item page_item page-item-188 current_page_item menu-item-3733\" id=\"menu-item-3733\"><a aria-current=\"page\" href=\"https://lochside.aberdeen.sch.uk/school-uniform/\">School Uniform</a></li>\n",
      "<li class=\"menu-item menu-item-type-post_type menu-item-object-page menu-item-3826\" id=\"menu-item-3826\"><a href=\"https://lochside.aberdeen.sch.uk/financial-support/\">Financial Support</a></li>\n",
      "<li class=\"menu-item menu-item-type-post_type menu-item-object-page menu-item-3732\" id=\"menu-item-3732\"><a href=\"https://lochside.aberdeen.sch.uk/careers/\">Careers</a></li>\n",
      "<li class=\"menu-item menu-item-type-post_type menu-item-object-page menu-item-3737\" id=\"menu-item-3737\"><a href=\"https://lochside.aberdeen.sch.uk/virtual-tour/\">Virtual Tour</a></li>\n",
      "</ul>\n",
      "</li>\n",
      "<li class=\"menu-item menu-item-type-custom menu-item-object-custom menu-item-3736\" id=\"menu-item-3736\"><a href=\"https://sites.google.com/ab-ed.org/curriculumlearnerpathways/home\">Curricular and Learner Pathways</a></li>\n",
      "<li class=\"menu-item menu-item-type-post_type menu-item-object-page menu-item-3734\" id=\"menu-item-3734\"><a href=\"https://lochside.aberdeen.sch.uk/contact-us/\">Contact Us</a></li>\n",
      "</ul></div> </nav><!-- #site-navigation -->\n",
      "</div>\n",
      "</div>\n",
      "</div>\n",
      "</div>\n",
      "</header><!-- #masthead -->\n",
      "<div class=\"sydney-hero-area\">\n",
      "<div class=\"header-image\">\n",
      "<div class=\"overlay\"></div> <img alt=\"\" class=\"header-inner\" src=\"\" title=\"\" width=\"1920\"/>\n",
      "</div>\n",
      "</div>\n",
      "<div class=\"page-wrap\" id=\"content\">\n",
      "<div class=\"content-wrapper container\">\n",
      "<div class=\"row\">\n",
      "<div class=\"content-area col-md-9\" id=\"primary\">\n",
      "<main class=\"post-wrap\" id=\"main\" role=\"main\">\n",
      "<article class=\"post-188 page type-page status-publish hentry\" id=\"post-188\">\n",
      "<header class=\"entry-header\">\n",
      "<h1 class=\"title-post entry-title\">School Uniform</h1> </header><!-- .entry-header -->\n",
      "<div class=\"entry-content\">\n",
      "<div class=\"panel-layout\" id=\"pl-188\"><div class=\"panel-grid panel-has-style\" id=\"pg-188-0\"><div class=\"panel-row-style panel-row-style-for-188-0\" data-overlay=\"true\" style=\"padding: 100px 0; \"><div class=\"panel-grid-cell\" id=\"pgc-188-0-0\"><div class=\"so-panel widget widget_sow-image panel-first-child\" data-index=\"0\" id=\"panel-188-0-0-0\"><div class=\"panel-widget-style panel-widget-style-for-188-0-0-0\" data-headings-color=\"#443f3f\" data-title-color=\"#443f3f\" style=\"text-align: left;\"><div class=\"so-widget-sow-image so-widget-sow-image-default-8b5b6f678277-188\">\n",
      "<div class=\"sow-image-container\">\n",
      "<img alt=\"\" class=\"so-widget-image\" decoding=\"async\" fetchpriority=\"high\" height=\"924\" sizes=\"(max-width: 1640px) 100vw, 1640px\" src=\"https://lochside.aberdeen.sch.uk/wp-content/uploads/2021/03/LOCHSIDE-ACADEMY.png\" srcset=\"https://lochside.aberdeen.sch.uk/wp-content/uploads/2021/03/LOCHSIDE-ACADEMY.png 1640w, https://lochside.aberdeen.sch.uk/wp-content/uploads/2021/03/LOCHSIDE-ACADEMY-300x169.png 300w, https://lochside.aberdeen.sch.uk/wp-content/uploads/2021/03/LOCHSIDE-ACADEMY-1024x577.png 1024w, https://lochside.aberdeen.sch.uk/wp-content/uploads/2021/03/LOCHSIDE-ACADEMY-768x433.png 768w, https://lochside.aberdeen.sch.uk/wp-content/uploads/2021/03/LOCHSIDE-ACADEMY-1536x865.png 1536w, https://lochside.aberdeen.sch.uk/wp-content/uploads/2021/03/LOCHSIDE-ACADEMY-830x468.png 830w, https://lochside.aberdeen.sch.uk/wp-content/uploads/2021/03/LOCHSIDE-ACADEMY-230x130.png 230w, https://lochside.aberdeen.sch.uk/wp-content/uploads/2021/03/LOCHSIDE-ACADEMY-350x197.png 350w, https://lochside.aberdeen.sch.uk/wp-content/uploads/2021/03/LOCHSIDE-ACADEMY-480x270.png 480w\" title=\"LOCHSIDE ACADEMY\" width=\"1640\">\n",
      "</img></div>\n",
      "</div></div></div><div class=\"so-panel widget widget_sow-editor panel-last-child\" data-index=\"1\" id=\"panel-188-0-0-1\"><div class=\"panel-widget-style panel-widget-style-for-188-0-0-1\" data-headings-color=\"#443f3f\" data-title-color=\"#443f3f\" style=\"text-align: left;\"><div class=\"so-widget-sow-editor so-widget-sow-editor-base\"><h3 class=\"widget-title\">School Uniform</h3>\n",
      "<div class=\"siteorigin-widget-tinymce textwidget\">\n",
      "<h5 style=\"text-align: left;\"><strong>S1-S3 :</strong><br/>\n",
      "• NO leggings or denim<br/>\n",
      "• Any footwear<br/>\n",
      "• A black skirt* or black trousers<br/>\n",
      "• A white polo shirt with or without school badge or a white formal shirt.<br/>\n",
      "• A black school sweatshirt with the school badge or/and a black school blazer (the blazer is optional for S1-S3)<br/>\n",
      "• A school tie is optional for S1-S3</h5>\n",
      "<h5 style=\"text-align: left;\"><strong>S4-S6 :</strong><br/>\n",
      "• NO leggings or denim<br/>\n",
      "• Any footwear<br/>\n",
      "• A black skirt* or black trousers<br/>\n",
      "• A white polo shirt with or without school badge or a white or black formal shirt.<br/>\n",
      "• A black blazer with badge<br/>\n",
      "• A school tie<br/>\n",
      "• A black school sweatshirt, plain black v neck jumper or plain black cardigan can be worn under the blazer.<br/>\n",
      "* Skirts should be a reasonable length as excessively short skirts are unsuitable for a school setting.</h5>\n",
      "<h5 style=\"text-align: left;\">School bag: All pupils will be expected to have a school bag with them at all times.</h5>\n",
      "<h4 style=\"text-align: left;\"><strong>Purchasing school uniform</strong></h4>\n",
      "<h5 style=\"text-align: left;\">School uniform can either be purchased direct from the suppliers online from Promprint Designs at <a href=\"http://www.pomprintdesigns.com/\">http://www.pomprintdesigns.com/ </a></h5>\n",
      "<h5 style=\"text-align: left;\">School ties are available to purchase from Lochside Academy school office.</h5>\n",
      "</div>\n",
      "</div></div></div></div></div></div></div> </div><!-- .entry-content -->\n",
      "<footer class=\"entry-footer\">\n",
      "</footer><!-- .entry-footer -->\n",
      "</article><!-- #post-## -->\n",
      "</main><!-- #main -->\n",
      "</div><!-- #primary -->\n",
      "</div>\n",
      "</div>\n",
      "</div><!-- #content -->\n",
      "<a class=\"go-top\"><i class=\"fa fa-angle-up\"></i></a>\n",
      "<footer class=\"site-footer\" id=\"colophon\" role=\"contentinfo\">\n",
      "<div class=\"site-info container\">\n",
      "\t\t\t\t\t\t\t©  Lochside Academy - Site Design by <a href=\"http://abernet.org/learntechteam\">@ACCLearnTech</a> </div><!-- .site-info -->\n",
      "</footer><!-- #colophon -->\n",
      "</div><!-- #page -->\n",
      "<script id=\"sydney-scripts-js\" src=\"https://lochside.aberdeen.sch.uk/wp-content/themes/sydney-pro-ii/js/scripts.js?ver=6.4.3\" type=\"text/javascript\"></script>\n",
      "<script id=\"sydney-main-js\" src=\"https://lochside.aberdeen.sch.uk/wp-content/themes/sydney-pro-ii/js/main.min.js?ver=20170621\" type=\"text/javascript\"></script>\n",
      "<script id=\"sydney-skip-link-focus-fix-js\" src=\"https://lochside.aberdeen.sch.uk/wp-content/themes/sydney-pro-ii/js/skip-link-focus-fix.js?ver=20130115\" type=\"text/javascript\"></script>\n",
      "<script type=\"text/javascript\">document.body.className = document.body.className.replace(\"siteorigin-panels-before-js\",\"\");</script>\n",
      "</body>\n",
      "</html>\n",
      "\n"
     ]
    }
   ],
   "source": [
    "print (soup)"
   ]
  },
  {
   "cell_type": "markdown",
   "id": "67b8692a",
   "metadata": {},
   "source": [
    "### Parsing the code\n",
    "\n",
    "Now we can navigate through the _soup_ object lookjing for what we need. \n",
    "\n",
    "We'll start by using the soup.find method. We can use this technique to find elements, rows, lists etc. \n",
    "\n",
    "In this case we are looking for a __div__ tag with a specific class name. "
   ]
  },
  {
   "cell_type": "code",
   "execution_count": 99,
   "id": "0e7ac9fb",
   "metadata": {},
   "outputs": [],
   "source": [
    "mydiv = soup.find(\"div\", {\"class\": \"so-widget-sow-editor so-widget-sow-editor-base\"})\n"
   ]
  },
  {
   "cell_type": "markdown",
   "id": "585a42ed",
   "metadata": {},
   "source": [
    "What does that return?"
   ]
  },
  {
   "cell_type": "code",
   "execution_count": 100,
   "id": "b1b37de8",
   "metadata": {},
   "outputs": [
    {
     "name": "stdout",
     "output_type": "stream",
     "text": [
      "<div class=\"so-widget-sow-editor so-widget-sow-editor-base\"><h3 class=\"widget-title\">School Uniform</h3>\n",
      "<div class=\"siteorigin-widget-tinymce textwidget\">\n",
      "<h5 style=\"text-align: left;\"><strong>S1-S3 :</strong><br/>\n",
      "• NO leggings or denim<br/>\n",
      "• Any footwear<br/>\n",
      "• A black skirt* or black trousers<br/>\n",
      "• A white polo shirt with or without school badge or a white formal shirt.<br/>\n",
      "• A black school sweatshirt with the school badge or/and a black school blazer (the blazer is optional for S1-S3)<br/>\n",
      "• A school tie is optional for S1-S3</h5>\n",
      "<h5 style=\"text-align: left;\"><strong>S4-S6 :</strong><br/>\n",
      "• NO leggings or denim<br/>\n",
      "• Any footwear<br/>\n",
      "• A black skirt* or black trousers<br/>\n",
      "• A white polo shirt with or without school badge or a white or black formal shirt.<br/>\n",
      "• A black blazer with badge<br/>\n",
      "• A school tie<br/>\n",
      "• A black school sweatshirt, plain black v neck jumper or plain black cardigan can be worn under the blazer.<br/>\n",
      "* Skirts should be a reasonable length as excessively short skirts are unsuitable for a school setting.</h5>\n",
      "<h5 style=\"text-align: left;\">School bag: All pupils will be expected to have a school bag with them at all times.</h5>\n",
      "<h4 style=\"text-align: left;\"><strong>Purchasing school uniform</strong></h4>\n",
      "<h5 style=\"text-align: left;\">School uniform can either be purchased direct from the suppliers online from Promprint Designs at <a href=\"http://www.pomprintdesigns.com/\">http://www.pomprintdesigns.com/ </a></h5>\n",
      "<h5 style=\"text-align: left;\">School ties are available to purchase from Lochside Academy school office.</h5>\n",
      "</div>\n",
      "</div>\n"
     ]
    }
   ],
   "source": [
    "print (mydiv)"
   ]
  },
  {
   "cell_type": "markdown",
   "id": "f20123a9",
   "metadata": {},
   "source": [
    "We can find headers within that."
   ]
  },
  {
   "cell_type": "code",
   "execution_count": 101,
   "id": "065193e5",
   "metadata": {},
   "outputs": [],
   "source": [
    "headers = soup.find('div', attrs={'class': 'so-widget-sow-editor so-widget-sow-editor-base'}).h5"
   ]
  },
  {
   "cell_type": "markdown",
   "id": "7ee94e32",
   "metadata": {},
   "source": [
    "But if we check what it returns we see that it only finds the first one. This is what the _soup.find_ method does. "
   ]
  },
  {
   "cell_type": "code",
   "execution_count": 102,
   "id": "0f98eaa1",
   "metadata": {},
   "outputs": [
    {
     "name": "stdout",
     "output_type": "stream",
     "text": [
      "<h5 style=\"text-align: left;\"><strong>S1-S3 :</strong><br/>\n",
      "• NO leggings or denim<br/>\n",
      "• Any footwear<br/>\n",
      "• A black skirt* or black trousers<br/>\n",
      "• A white polo shirt with or without school badge or a white formal shirt.<br/>\n",
      "• A black school sweatshirt with the school badge or/and a black school blazer (the blazer is optional for S1-S3)<br/>\n",
      "• A school tie is optional for S1-S3</h5>\n"
     ]
    }
   ],
   "source": [
    "print(headers)\n"
   ]
  },
  {
   "cell_type": "markdown",
   "id": "e71b3f6c",
   "metadata": {},
   "source": [
    "So we need something like the _find_all_ nethod. We can test it"
   ]
  },
  {
   "cell_type": "code",
   "execution_count": 103,
   "id": "95d72b98",
   "metadata": {},
   "outputs": [
    {
     "name": "stdout",
     "output_type": "stream",
     "text": [
      "S1-S3 :\n",
      "• NO leggings or denim\n",
      "• Any footwear\n",
      "• A black skirt* or black trousers\n",
      "• A white polo shirt with or without school badge or a white formal shirt.\n",
      "• A black school sweatshirt with the school badge or/and a black school blazer (the blazer is optional for S1-S3)\n",
      "• A school tie is optional for S1-S3\n",
      "----------------\n",
      "S4-S6 :\n",
      "• NO leggings or denim\n",
      "• Any footwear\n",
      "• A black skirt* or black trousers\n",
      "• A white polo shirt with or without school badge or a white or black formal shirt.\n",
      "• A black blazer with badge\n",
      "• A school tie\n",
      "• A black school sweatshirt, plain black v neck jumper or plain black cardigan can be worn under the blazer.\n",
      "* Skirts should be a reasonable length as excessively short skirts are unsuitable for a school setting.\n",
      "----------------\n",
      "School bag: All pupils will be expected to have a school bag with them at all times.\n",
      "----------------\n",
      "School uniform can either be purchased direct from the suppliers online from Promprint Designs at http://www.pomprintdesigns.com/\n",
      "----------------\n",
      "School ties are available to purchase from Lochside Academy school office.\n",
      "----------------\n"
     ]
    }
   ],
   "source": [
    "for headlines in mydiv.find_all(\"h5\"):\n",
    "    print(headlines.text.strip())\n",
    "    print(\"----------------\")\n"
   ]
  },
  {
   "cell_type": "markdown",
   "id": "7e9adf5f",
   "metadata": {},
   "source": [
    "So, we can create a list (it's what _find_all_ returns) of all of the H5 headings"
   ]
  },
  {
   "cell_type": "code",
   "execution_count": 104,
   "id": "69b19bd3",
   "metadata": {},
   "outputs": [],
   "source": [
    "fives = mydiv.find_all(\"h5\")\n"
   ]
  },
  {
   "cell_type": "markdown",
   "id": "98c15d0b",
   "metadata": {},
   "source": [
    "This will show the full list: "
   ]
  },
  {
   "cell_type": "code",
   "execution_count": 105,
   "id": "e19be85f",
   "metadata": {},
   "outputs": [
    {
     "name": "stdout",
     "output_type": "stream",
     "text": [
      "[<h5 style=\"text-align: left;\"><strong>S1-S3 :</strong><br/>\n",
      "• NO leggings or denim<br/>\n",
      "• Any footwear<br/>\n",
      "• A black skirt* or black trousers<br/>\n",
      "• A white polo shirt with or without school badge or a white formal shirt.<br/>\n",
      "• A black school sweatshirt with the school badge or/and a black school blazer (the blazer is optional for S1-S3)<br/>\n",
      "• A school tie is optional for S1-S3</h5>, <h5 style=\"text-align: left;\"><strong>S4-S6 :</strong><br/>\n",
      "• NO leggings or denim<br/>\n",
      "• Any footwear<br/>\n",
      "• A black skirt* or black trousers<br/>\n",
      "• A white polo shirt with or without school badge or a white or black formal shirt.<br/>\n",
      "• A black blazer with badge<br/>\n",
      "• A school tie<br/>\n",
      "• A black school sweatshirt, plain black v neck jumper or plain black cardigan can be worn under the blazer.<br/>\n",
      "* Skirts should be a reasonable length as excessively short skirts are unsuitable for a school setting.</h5>, <h5 style=\"text-align: left;\">School bag: All pupils will be expected to have a school bag with them at all times.</h5>, <h5 style=\"text-align: left;\">School uniform can either be purchased direct from the suppliers online from Promprint Designs at <a href=\"http://www.pomprintdesigns.com/\">http://www.pomprintdesigns.com/ </a></h5>, <h5 style=\"text-align: left;\">School ties are available to purchase from Lochside Academy school office.</h5>]\n"
     ]
    }
   ],
   "source": [
    "print(fives)\n"
   ]
  },
  {
   "cell_type": "markdown",
   "id": "92b5f980",
   "metadata": {},
   "source": [
    "We can find out how long the list is:"
   ]
  },
  {
   "cell_type": "code",
   "execution_count": 106,
   "id": "5fa26a3d",
   "metadata": {},
   "outputs": [
    {
     "name": "stdout",
     "output_type": "stream",
     "text": [
      "5\n"
     ]
    }
   ],
   "source": [
    "print(len(fives))"
   ]
  },
  {
   "cell_type": "markdown",
   "id": "ff4cb706",
   "metadata": {},
   "source": [
    "And we can look at individual list items"
   ]
  },
  {
   "cell_type": "code",
   "execution_count": 107,
   "id": "0ea225dd",
   "metadata": {},
   "outputs": [
    {
     "name": "stdout",
     "output_type": "stream",
     "text": [
      "<h5 style=\"text-align: left;\"><strong>S1-S3 :</strong><br/>\n",
      "• NO leggings or denim<br/>\n",
      "• Any footwear<br/>\n",
      "• A black skirt* or black trousers<br/>\n",
      "• A white polo shirt with or without school badge or a white formal shirt.<br/>\n",
      "• A black school sweatshirt with the school badge or/and a black school blazer (the blazer is optional for S1-S3)<br/>\n",
      "• A school tie is optional for S1-S3</h5>\n"
     ]
    }
   ],
   "source": [
    "print(fives[0])"
   ]
  },
  {
   "cell_type": "code",
   "execution_count": 108,
   "id": "1634b7ad",
   "metadata": {},
   "outputs": [
    {
     "name": "stdout",
     "output_type": "stream",
     "text": [
      "<h5 style=\"text-align: left;\"><strong>S4-S6 :</strong><br/>\n",
      "• NO leggings or denim<br/>\n",
      "• Any footwear<br/>\n",
      "• A black skirt* or black trousers<br/>\n",
      "• A white polo shirt with or without school badge or a white or black formal shirt.<br/>\n",
      "• A black blazer with badge<br/>\n",
      "• A school tie<br/>\n",
      "• A black school sweatshirt, plain black v neck jumper or plain black cardigan can be worn under the blazer.<br/>\n",
      "* Skirts should be a reasonable length as excessively short skirts are unsuitable for a school setting.</h5>\n"
     ]
    }
   ],
   "source": [
    "print(fives[1])"
   ]
  },
  {
   "cell_type": "markdown",
   "id": "80f74e87",
   "metadata": {},
   "source": [
    "We can see that in the first two items the year group is held in _strong_ tags. We can use __find__ and __get_text__ methods to extract that. "
   ]
  },
  {
   "cell_type": "code",
   "execution_count": 109,
   "id": "730764cc",
   "metadata": {},
   "outputs": [
    {
     "name": "stdout",
     "output_type": "stream",
     "text": [
      "S1-S3 :\n",
      "S4-S6 :\n"
     ]
    }
   ],
   "source": [
    "print(fives[0].find(\"strong\").get_text())\n",
    "print(fives[1].find(\"strong\").get_text())"
   ]
  },
  {
   "cell_type": "markdown",
   "id": "edb7c8b8",
   "metadata": {},
   "source": [
    "And we can split on the space (creating a list) and get the first element of that. \n",
    "\n"
   ]
  },
  {
   "cell_type": "code",
   "execution_count": 110,
   "id": "5526e631",
   "metadata": {},
   "outputs": [
    {
     "name": "stdout",
     "output_type": "stream",
     "text": [
      "S1-S3\n",
      "S4-S6\n"
     ]
    }
   ],
   "source": [
    "print(fives[0].find(\"strong\").get_text().split(\" \")[0])\n",
    "print(fives[1].find(\"strong\").get_text().split(\" \")[0])"
   ]
  },
  {
   "cell_type": "markdown",
   "id": "70702819",
   "metadata": {},
   "source": [
    "So now we have something to work with. "
   ]
  },
  {
   "cell_type": "code",
   "execution_count": 183,
   "id": "9a74bf75",
   "metadata": {},
   "outputs": [
    {
     "name": "stdout",
     "output_type": "stream",
     "text": [
      "[-----------------------]\n",
      "~~~~~~~~~~\n",
      "~~~~~~~~~~\n",
      "~~~~~~~~~~\n",
      "~~~~~~~~~~\n",
      "~~~~~~~~~~\n",
      "[-----------------------]\n",
      "~~~~~~~~~~\n",
      "~~~~~~~~~~\n",
      "~~~~~~~~~~\n",
      "~~~~~~~~~~\n",
      "~~~~~~~~~~\n",
      "~~~~~~~~~~\n"
     ]
    }
   ],
   "source": [
    "\n",
    "for year in fives:\n",
    "    try:\n",
    "        year.find(\"strong\").get_text().split(\" \")[0][0] == 'S'\n",
    "        year_group = year.find(\"strong\").get_text().split(\" \")[0]\n",
    "        print(\"[-----------------------]\")\n",
    "        print(f\"{year_group=}\\n\")\n",
    "        \n",
    "        for line in year:\n",
    "            line_text = str(line)\n",
    "            if not \"strong\" in line_text and not \"<br/>\" in line_text and not \"NO \" in line_text:\n",
    "                if \"• \" in line_text:\n",
    "                    print(line_text.replace(\"*\", \"\")[3:])\n",
    "                    print(\"~~~~~~~~~~\")\n",
    "            \n",
    "    except:\n",
    "        pass # we're only interested in those with \"S1-S3\" or \"S4-S6\"\n",
    "        "
   ]
  },
  {
   "cell_type": "markdown",
   "id": "99e2cc8a",
   "metadata": {},
   "source": [
    "So, let's try to capture that data in some structure. In this case we can use a dictionary, with the year group as a key, and a list of uniform items as the values. "
   ]
  },
  {
   "cell_type": "code",
   "execution_count": 180,
   "id": "6c4adfcc",
   "metadata": {},
   "outputs": [],
   "source": [
    "Lochside=dict()\n",
    "\n",
    "for year in fives:\n",
    "    item_list = list()\n",
    "    try:\n",
    "        \n",
    "        year.find(\"strong\").get_text().split(\" \")[0][0] == 'S'\n",
    "        year_group = year.find(\"strong\").get_text().split(\" \")[0]\n",
    "        \n",
    "        for line in year:\n",
    "            line_text = str(line)\n",
    "            if not \"strong\" in line_text and not \"<br/>\" in line_text and not \"NO \" in line_text:\n",
    "                if \"• \" in line_text:\n",
    "                    item_list.append(line_text.replace(\"*\", \"\")[3:])\n",
    "        Lochside[year_group] = item_list \n",
    "    except:\n",
    "        pass # we're only interested in those with \"S1-S3\" or \"S4-S6\""
   ]
  },
  {
   "cell_type": "markdown",
   "id": "b2b50eb6",
   "metadata": {},
   "source": [
    "What happens if we print the dictionary?"
   ]
  },
  {
   "cell_type": "code",
   "execution_count": 181,
   "id": "c4c793a7",
   "metadata": {},
   "outputs": [],
   "source": [
    "Lochside"
   ]
  }
 ],
 "metadata": {
  "kernelspec": {
   "display_name": "Python 3 (ipykernel)",
   "language": "python",
   "name": "python3"
  },
  "language_info": {
   "codemirror_mode": {
    "name": "ipython",
    "version": 3
   },
   "file_extension": ".py",
   "mimetype": "text/x-python",
   "name": "python",
   "nbconvert_exporter": "python",
   "pygments_lexer": "ipython3",
   "version": "3.11.5"
  }
 },
 "nbformat": 4,
 "nbformat_minor": 5
}
