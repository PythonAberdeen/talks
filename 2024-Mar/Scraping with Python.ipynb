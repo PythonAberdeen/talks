{
 "cells": [
  {
   "cell_type": "markdown",
   "id": "79d8418f",
   "metadata": {},
   "source": [
    "# Scraping the web in Python\n",
    "\n",
    "## Introduction\n",
    "\n",
    "In order to do some web scraping there are certain libraries that we need to install. These are [requests](https://pypi.org/project/requests/) and [Beautiful Soup](https://pypi.org/project/beautifulsoup4/)\n",
    "\n",
    "If you do not have these installed you can do so by running the commands \n",
    "\n",
    "<pre>\n",
    ">> pip install requests\n",
    "\n",
    ">> pip install beautifulsoup4 \n",
    "</pre>\n",
    "\n",
    "The first, __requests__, allows us to send HTTP requests and retrieve conplete web pages (the full HTML - not just the presented text). The second, __Beautiful Soup__, is used to parse the retrived code, find elements and extract text or other aspects that we are interested in. "
   ]
  },
  {
   "cell_type": "markdown",
   "id": "308f3bbe",
   "metadata": {},
   "source": [
    "## Example\n",
    "\n",
    "In this example we are going to get the population of the city of Stirling from Wikipedia. "
   ]
  },
  {
   "cell_type": "markdown",
   "id": "643520bb",
   "metadata": {},
   "source": [
    "### Loading the libraries\n",
    "\n",
    "We load these libraries as follows"
   ]
  },
  {
   "cell_type": "code",
   "execution_count": null,
   "id": "0497901b",
   "metadata": {},
   "outputs": [],
   "source": [
    "# import our libraries\n",
    "import requests\n",
    "from bs4 import BeautifulSoup"
   ]
  },
  {
   "cell_type": "markdown",
   "id": "238bd90a",
   "metadata": {},
   "source": [
    "### Create variables\n",
    "\n",
    "We'll have a string for city, another for the url of the page to be scraped, and an integer for the population which we don't know the value of yet. "
   ]
  },
  {
   "cell_type": "code",
   "execution_count": null,
   "id": "c04acb3a",
   "metadata": {},
   "outputs": [],
   "source": [
    "school = \"Lochside Academy\" \n",
    "url = \"https://lochside.aberdeen.sch.uk/school-uniform/\"\n",
    "items_s1_s3 =list()\n",
    "items_s4_s6 = list()\n"
   ]
  },
  {
   "cell_type": "markdown",
   "id": "dfb43686",
   "metadata": {},
   "source": [
    "### Using requests, get the code from our URL"
   ]
  },
  {
   "cell_type": "code",
   "execution_count": null,
   "id": "a89aa438",
   "metadata": {},
   "outputs": [],
   "source": [
    "r = requests.get(url)\n"
   ]
  },
  {
   "cell_type": "markdown",
   "id": "99f5aed3",
   "metadata": {},
   "source": [
    "### Create a Beautiful Soup object\n",
    "\n",
    "The coding convention is to call this 'soup' but you can call it what you like. Sticking to the convention makes reading similar code more straight-forward"
   ]
  },
  {
   "cell_type": "code",
   "execution_count": null,
   "id": "be7d2561",
   "metadata": {},
   "outputs": [],
   "source": [
    "soup = BeautifulSoup(r.content,\"html.parser\")\n"
   ]
  },
  {
   "cell_type": "markdown",
   "id": "6f1e53b9",
   "metadata": {},
   "source": [
    "If we want to we can have a look at the contents of the soup object. It may not be particularly readable! \n",
    "\n",
    "Having Chrome or a similar browser open while you write your code, and using the Inspector to look at the page HTML can help us to find what we're looking for.\n",
    "\n"
   ]
  },
  {
   "cell_type": "code",
   "execution_count": null,
   "id": "e72e99df",
   "metadata": {},
   "outputs": [],
   "source": [
    "print (soup)"
   ]
  },
  {
   "cell_type": "markdown",
   "id": "67b8692a",
   "metadata": {},
   "source": [
    "### Parsing the code\n",
    "\n",
    "Now we can navigate through the _soup_ object lookjing for what we need. \n",
    "\n",
    "We'll start by using the soup.find method. We can use this technique to find elements, rows, lists etc. \n",
    "\n",
    "In this case we are looking for a __div__ tag with a specific class name. "
   ]
  },
  {
   "cell_type": "code",
   "execution_count": null,
   "id": "0e7ac9fb",
   "metadata": {},
   "outputs": [],
   "source": [
    "mydiv = soup.find(\"div\", {\"class\": \"so-widget-sow-editor so-widget-sow-editor-base\"})\n"
   ]
  },
  {
   "cell_type": "markdown",
   "id": "585a42ed",
   "metadata": {},
   "source": [
    "What does that return?"
   ]
  },
  {
   "cell_type": "code",
   "execution_count": null,
   "id": "b1b37de8",
   "metadata": {},
   "outputs": [],
   "source": [
    "print (mydiv)"
   ]
  },
  {
   "cell_type": "markdown",
   "id": "f20123a9",
   "metadata": {},
   "source": [
    "We can find headers within that."
   ]
  },
  {
   "cell_type": "code",
   "execution_count": null,
   "id": "065193e5",
   "metadata": {},
   "outputs": [],
   "source": [
    "headers = soup.find('div', attrs={'class': 'so-widget-sow-editor so-widget-sow-editor-base'}).h5"
   ]
  },
  {
   "cell_type": "markdown",
   "id": "7ee94e32",
   "metadata": {},
   "source": [
    "But if we check what it returns we see that it only finds the first one. This is what the _soup.find_ method does. "
   ]
  },
  {
   "cell_type": "code",
   "execution_count": null,
   "id": "0f98eaa1",
   "metadata": {},
   "outputs": [],
   "source": [
    "print(headers)\n"
   ]
  },
  {
   "cell_type": "markdown",
   "id": "e71b3f6c",
   "metadata": {},
   "source": [
    "So we need something like the _find_all_ nethod. We can test it"
   ]
  },
  {
   "cell_type": "code",
   "execution_count": null,
   "id": "95d72b98",
   "metadata": {},
   "outputs": [],
   "source": [
    "for headlines in mydiv.find_all(\"h5\"):\n",
    "    print(headlines.text.strip())\n",
    "    print(\"+-+-+-+-+-+-+-+-+-+-+-+-+-+-+-+-+-+-\")\n",
    "    "
   ]
  },
  {
   "cell_type": "markdown",
   "id": "7e9adf5f",
   "metadata": {},
   "source": [
    "So, we can create a list (it's what _find_all_ returns) of all of the H5 headings"
   ]
  },
  {
   "cell_type": "code",
   "execution_count": null,
   "id": "69b19bd3",
   "metadata": {},
   "outputs": [],
   "source": [
    "fives = mydiv.find_all(\"h5\")\n"
   ]
  },
  {
   "cell_type": "markdown",
   "id": "98c15d0b",
   "metadata": {},
   "source": [
    "This will show the full list: "
   ]
  },
  {
   "cell_type": "code",
   "execution_count": null,
   "id": "e19be85f",
   "metadata": {},
   "outputs": [],
   "source": [
    "print(fives)\n"
   ]
  },
  {
   "cell_type": "markdown",
   "id": "92b5f980",
   "metadata": {},
   "source": [
    "We can find out how long the list is:"
   ]
  },
  {
   "cell_type": "code",
   "execution_count": null,
   "id": "5fa26a3d",
   "metadata": {},
   "outputs": [],
   "source": [
    "print(len(fives))"
   ]
  },
  {
   "cell_type": "markdown",
   "id": "ff4cb706",
   "metadata": {},
   "source": [
    "And we can look at individual list items"
   ]
  },
  {
   "cell_type": "code",
   "execution_count": null,
   "id": "0ea225dd",
   "metadata": {},
   "outputs": [],
   "source": [
    "print(fives[0])"
   ]
  },
  {
   "cell_type": "code",
   "execution_count": null,
   "id": "1634b7ad",
   "metadata": {},
   "outputs": [],
   "source": [
    "print(fives[1])"
   ]
  },
  {
   "cell_type": "markdown",
   "id": "80f74e87",
   "metadata": {},
   "source": [
    "We can see that in the first two items the year group is held in _strong_ tags. We can use __find__ and __get_text__ methods to extract that. "
   ]
  },
  {
   "cell_type": "code",
   "execution_count": null,
   "id": "730764cc",
   "metadata": {},
   "outputs": [],
   "source": [
    "print(fives[0].find(\"strong\").get_text())\n",
    "print(fives[1].find(\"strong\").get_text())"
   ]
  },
  {
   "cell_type": "markdown",
   "id": "edb7c8b8",
   "metadata": {},
   "source": [
    "And we can split on the space (creating a list) and get the first element of that. \n",
    "\n"
   ]
  },
  {
   "cell_type": "code",
   "execution_count": null,
   "id": "5526e631",
   "metadata": {},
   "outputs": [],
   "source": [
    "print(fives[0].find(\"strong\").get_text().split(\" \")[0])\n",
    "print(fives[1].find(\"strong\").get_text().split(\" \")[0])"
   ]
  },
  {
   "cell_type": "markdown",
   "id": "70702819",
   "metadata": {},
   "source": [
    "So now we have something to work with. "
   ]
  },
  {
   "cell_type": "code",
   "execution_count": null,
   "id": "9a74bf75",
   "metadata": {},
   "outputs": [],
   "source": [
    "\n",
    "for year in fives:\n",
    "    try:\n",
    "        year.find(\"strong\").get_text().split(\" \")[0][0] == 'S'\n",
    "        year_group = year.find(\"strong\").get_text().split(\" \")[0]\n",
    "        print(\"[-----------------------]\")\n",
    "        print(f\"{year_group=}\\n\")\n",
    "        \n",
    "        for line in year:\n",
    "            line_text = str(line)\n",
    "            if not \"strong\" in line_text and not \"<br/>\" in line_text and not \"NO \" in line_text:\n",
    "                if \"• \" in line_text:\n",
    "                    print(line_text.replace(\"*\", \"\")[3:])\n",
    "                    print(\"~~~~~~~~~~\")\n",
    "            \n",
    "    except:\n",
    "        pass # we're only interested in those with \"S1-S3\" or \"S4-S6\"\n",
    "        "
   ]
  },
  {
   "cell_type": "markdown",
   "id": "99e2cc8a",
   "metadata": {},
   "source": [
    "So, let's try to capture that data in some structure. In this case we can use a dictionary, with the year group as a key, and a list of uniform items as the values. "
   ]
  },
  {
   "cell_type": "code",
   "execution_count": null,
   "id": "6c4adfcc",
   "metadata": {},
   "outputs": [],
   "source": [
    "Lochside=dict()\n",
    "\n",
    "for year in fives:\n",
    "    item_list = list()\n",
    "    try:\n",
    "        \n",
    "        year.find(\"strong\").get_text().split(\" \")[0][0] == 'S'\n",
    "        year_group = year.find(\"strong\").get_text().split(\" \")[0]\n",
    "        \n",
    "        for line in year:\n",
    "            line_text = str(line)\n",
    "            if not \"strong\" in line_text and not \"<br/>\" in line_text and not \"NO \" in line_text:\n",
    "                if \"• \" in line_text:\n",
    "                    item_list.append(line_text.replace(\"*\", \"\")[3:])\n",
    "        Lochside[year_group] = item_list \n",
    "    except:\n",
    "        pass # we're only interested in those with \"S1-S3\" or \"S4-S6\""
   ]
  },
  {
   "cell_type": "markdown",
   "id": "b2b50eb6",
   "metadata": {},
   "source": [
    "What happens if we print the dictionary?"
   ]
  },
  {
   "cell_type": "code",
   "execution_count": null,
   "id": "c4c793a7",
   "metadata": {},
   "outputs": [],
   "source": [
    "Lochside"
   ]
  },
  {
   "cell_type": "markdown",
   "id": "27164939",
   "metadata": {},
   "source": [
    "### Questions or comments?"
   ]
  },
  {
   "cell_type": "markdown",
   "id": "193d62e9",
   "metadata": {},
   "source": [
    "## Coding Challenge"
   ]
  },
  {
   "cell_type": "markdown",
   "id": "dff7d9d0",
   "metadata": {},
   "source": [
    "This month's coding challenge can be found [here](https://github.com/PythonAberdeen/user_group/tree/master/2024/2024-03/challenge)"
   ]
  },
  {
   "cell_type": "code",
   "execution_count": null,
   "id": "b590f145",
   "metadata": {},
   "outputs": [],
   "source": []
  }
 ],
 "metadata": {
  "kernelspec": {
   "display_name": "Python 3 (ipykernel)",
   "language": "python",
   "name": "python3"
  },
  "language_info": {
   "codemirror_mode": {
    "name": "ipython",
    "version": 3
   },
   "file_extension": ".py",
   "mimetype": "text/x-python",
   "name": "python",
   "nbconvert_exporter": "python",
   "pygments_lexer": "ipython3",
   "version": "3.11.5"
  }
 },
 "nbformat": 4,
 "nbformat_minor": 5
}
